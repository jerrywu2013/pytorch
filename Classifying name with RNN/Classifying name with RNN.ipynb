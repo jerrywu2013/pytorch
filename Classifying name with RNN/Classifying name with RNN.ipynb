{
 "cells": [
  {
   "cell_type": "code",
   "execution_count": 3,
   "metadata": {},
   "outputs": [
    {
     "name": "stdout",
     "output_type": "stream",
     "text": [
      "['data/names/Arabic.txt', 'data/names/Chinese.txt', 'data/names/Czech.txt', 'data/names/Dutch.txt', 'data/names/English.txt', 'data/names/French.txt', 'data/names/German.txt', 'data/names/Greek.txt', 'data/names/Irish.txt', 'data/names/Italian.txt', 'data/names/Japanese.txt', 'data/names/Korean.txt', 'data/names/Polish.txt', 'data/names/Portuguese.txt', 'data/names/Russian.txt', 'data/names/Scottish.txt', 'data/names/Spanish.txt', 'data/names/Vietnamese.txt']\n"
     ]
    }
   ],
   "source": [
    "from __future__ import unicode_literals, print_function, division\n",
    "from io import open #匯入資料\n",
    "import glob #檔案路徑的設定，可以用於*的擴展\n",
    "\n",
    "def findFiles(path): \n",
    "    return glob.glob(path)\n",
    "\n",
    "print(findFiles('data/names/*.txt'))\n",
    "\n",
    "\n",
    "import unicodedata #編碼處理\n",
    "import string\n",
    "\n",
    "#為了方便後面做Index用，建立a-z,A-Z的26*2個英文字母，加上5個特殊符號，共57個符號\n",
    "all_letters = string.ascii_letters + \" .,;'\"\n",
    "n_letters = len(all_letters)\n",
    "\n",
    "\n",
    "#將Unicode轉ASCII\n",
    "def unicodeToAscii(s):\n",
    "    return ''.join(\n",
    "        c for c in unicodedata.normalize('NFD', s)\n",
    "        if unicodedata.category(c) != 'Mn'\n",
    "        and c in all_letters\n",
    "    )\n",
    "\n",
    "\n",
    "## Unicode string to ASCII\n",
    "# http://stackoverflow.com/a/518232/2809427\n",
    "#def unicodeToAscii(s):\n",
    "#    return ''.join(\n",
    "#        c for c in unicodedata.normalize('NFD', s) #NFD, Normalization Form Decomposition 標準分解\n",
    "#        if unicodedata.category(c) != 'Mn'\n",
    "#    )\n",
    "#s1 = 'Spicy Jalape\\u00f1o' #整体字符\n",
    "#s2 = 'Spicy Jalapen\\u0303o' #原始字母＋組合字符\n",
    "#s1 == s2\n",
    "#t3 = unicodedata.normalize('NFD', s1)\n",
    "#t4 = unicodedata.normalize('NFD', s2)\n",
    "#t3 == t4\n",
    "\n",
    "\n",
    "#print(unicodeToAscii('Ślusàrski'))\n",
    "\n",
    "# 構建category_lines，放置每個分類的內容(像是名字內容)\n",
    "category_lines = {} #分類內容\n",
    "all_categories = [] #分類項目（如：英文姓名、中文姓名）\n",
    "\n",
    "# 讀取文件並分行\n",
    "def readLines(filename):\n",
    "    lines = open(filename, encoding='utf-8').read().strip().split('\\n')\n",
    "    return [line for line in lines]\n",
    "\n",
    "for filename in findFiles('data/names/*.txt'):\n",
    "    category = filename.split('/')[-1].split('.')[0]\n",
    "    #18種類別\n",
    "    all_categories.append(category)\n",
    "    lines = readLines(filename) #每一個檔案裡面的內容\n",
    "    #category_lines 內容組合，類別：名字List，也就是一個類別裡面，有Ｎ個要被分類的內容\n",
    "    category_lines[category] = lines \n",
    "\n",
    "n_categories = len(all_categories) #n_categories獲得分類總數"
   ]
  },
  {
   "cell_type": "code",
   "execution_count": 4,
   "metadata": {},
   "outputs": [
    {
     "data": {
      "text/plain": [
       "['Arabic',\n",
       " 'Chinese',\n",
       " 'Czech',\n",
       " 'Dutch',\n",
       " 'English',\n",
       " 'French',\n",
       " 'German',\n",
       " 'Greek',\n",
       " 'Irish',\n",
       " 'Italian',\n",
       " 'Japanese',\n",
       " 'Korean',\n",
       " 'Polish',\n",
       " 'Portuguese',\n",
       " 'Russian',\n",
       " 'Scottish',\n",
       " 'Spanish',\n",
       " 'Vietnamese']"
      ]
     },
     "execution_count": 4,
     "metadata": {},
     "output_type": "execute_result"
    }
   ],
   "source": [
    "all_categories"
   ]
  },
  {
   "cell_type": "code",
   "execution_count": null,
   "metadata": {
    "collapsed": true
   },
   "outputs": [],
   "source": []
  },
  {
   "cell_type": "code",
   "execution_count": null,
   "metadata": {
    "collapsed": true
   },
   "outputs": [],
   "source": []
  },
  {
   "cell_type": "markdown",
   "metadata": {},
   "source": [
    "## 講解程式碼"
   ]
  },
  {
   "cell_type": "code",
   "execution_count": 2,
   "metadata": {},
   "outputs": [
    {
     "data": {
      "text/plain": [
       "57"
      ]
     },
     "execution_count": 2,
     "metadata": {},
     "output_type": "execute_result"
    }
   ],
   "source": [
    "len(string.ascii_letters) +5"
   ]
  },
  {
   "cell_type": "code",
   "execution_count": 3,
   "metadata": {},
   "outputs": [
    {
     "data": {
      "text/plain": [
       "<_io.TextIOWrapper name='data/names/Chinese.txt' mode='r' encoding='utf-8'>"
      ]
     },
     "execution_count": 3,
     "metadata": {},
     "output_type": "execute_result"
    }
   ],
   "source": [
    "#lines = open(filename, encoding='utf-8').read().strip().split('\\n')\n",
    "open('data/names/Chinese.txt', encoding='utf-8')"
   ]
  },
  {
   "cell_type": "code",
   "execution_count": 4,
   "metadata": {},
   "outputs": [
    {
     "data": {
      "text/plain": [
       "'Ang\\nAu-Yong\\nBai\\nBan\\nBao\\nBei\\nBian\\nBui\\nCai\\nCao\\nCen\\nChai\\nChaim\\nChan\\nChang\\nChao\\nChe\\nChen\\nCheng\\nCheung\\nChew\\nChieu\\nChin\\nChong\\nChou\\nChu\\nCui\\nDai\\nDeng\\nDing\\nDong\\nDou\\nDuan\\nEng\\nFan\\nFei\\nFeng\\nFoong\\nFung\\nGan\\nGauk\\nGeng\\nGim\\nGok\\nGong\\nGuan\\nGuang\\nGuo\\nGwock\\nHan\\nHang\\nHao\\nHew\\nHiu\\nHong\\nHor\\nHsiao\\nHua\\nHuan\\nHuang\\nHui\\nHuie\\nHuo\\nJia\\nJiang\\nJin\\nJing\\nJoe\\nKang\\nKau\\nKhoo\\nKhu\\nKong\\nKoo\\nKwan\\nKwei\\nKwong\\nLai\\nLam\\nLang\\nLau\\nLaw\\nLew\\nLian\\nLiao\\nLim\\nLin\\nLing\\nLiu\\nLoh\\nLong\\nLoong\\nLuo\\nMah\\nMai\\nMak\\nMao\\nMar\\nMei\\nMeng\\nMiao\\nMin\\nMing\\nMoy\\nMui\\nNie\\nNiu\\nOu-Yang\\nOw-Yang\\nPan\\nPang\\nPei\\nPeng\\nPing\\nQian\\nQin\\nQiu\\nQuan\\nQue\\nRan\\nRao\\nRong\\nRuan\\nSam\\nSeah\\nSee \\nSeow\\nSeto\\nSha\\nShan\\nShang\\nShao\\nShaw\\nShe\\nShen\\nSheng\\nShi\\nShu\\nShuai\\nShui\\nShum\\nSiew\\nSiu\\nSong\\nSum\\nSun\\nSze \\nTan\\nTang\\nTao\\nTeng\\nTeoh\\nThean\\nThian\\nThien\\nTian\\nTong\\nTow\\nTsang\\nTse\\nTsen\\nTso\\nTze\\nWan\\nWang\\nWei\\nWen\\nWeng\\nWon\\nWong\\nWoo\\nXiang\\nXiao\\nXie\\nXing\\nXue\\nXun\\nYan\\nYang\\nYao\\nYap\\nYau\\nYee\\nYep\\nYim\\nYin\\nYing\\nYong\\nYou\\nYuan\\nZang\\nZeng\\nZha\\nZhan\\nZhang\\nZhao\\nZhen\\nZheng\\nZhong\\nZhou\\nZhu\\nZhuo\\nZong\\nZou\\nBing\\nChi\\nChu\\nCong\\nCuan\\nDan\\nFei\\nFeng\\nGai\\nGao\\nGou\\nGuan\\nGui\\nGuo\\nHong\\nHou\\nHuan\\nJian\\nJiao\\nJin\\nJiu\\nJuan\\nJue\\nKan\\nKuai\\nKuang\\nKui\\nLao\\nLiang\\nLu:\\nLuo\\nMan\\nNao\\nPian\\nQiao\\nQing\\nQiu\\nRang\\nRui\\nShe\\nShi\\nShuo\\nSui\\nTai\\nWan\\nWei\\nXian\\nXie\\nXin\\nXing\\nXiong\\nXuan\\nYan\\nYin\\nYing\\nYuan\\nYue\\nYun\\nZha\\nZhai\\nZhang\\nZhi\\nZhuan\\nZhui\\n'"
      ]
     },
     "execution_count": 4,
     "metadata": {},
     "output_type": "execute_result"
    }
   ],
   "source": [
    "#lines = open(filename, encoding='utf-8').read().strip().split('\\n')\n",
    "open('data/names/Chinese.txt', encoding='utf-8').read()"
   ]
  },
  {
   "cell_type": "code",
   "execution_count": 5,
   "metadata": {},
   "outputs": [
    {
     "data": {
      "text/plain": [
       "'Ang\\nAu-Yong\\nBai\\nBan\\nBao\\nBei\\nBian\\nBui\\nCai\\nCao\\nCen\\nChai\\nChaim\\nChan\\nChang\\nChao\\nChe\\nChen\\nCheng\\nCheung\\nChew\\nChieu\\nChin\\nChong\\nChou\\nChu\\nCui\\nDai\\nDeng\\nDing\\nDong\\nDou\\nDuan\\nEng\\nFan\\nFei\\nFeng\\nFoong\\nFung\\nGan\\nGauk\\nGeng\\nGim\\nGok\\nGong\\nGuan\\nGuang\\nGuo\\nGwock\\nHan\\nHang\\nHao\\nHew\\nHiu\\nHong\\nHor\\nHsiao\\nHua\\nHuan\\nHuang\\nHui\\nHuie\\nHuo\\nJia\\nJiang\\nJin\\nJing\\nJoe\\nKang\\nKau\\nKhoo\\nKhu\\nKong\\nKoo\\nKwan\\nKwei\\nKwong\\nLai\\nLam\\nLang\\nLau\\nLaw\\nLew\\nLian\\nLiao\\nLim\\nLin\\nLing\\nLiu\\nLoh\\nLong\\nLoong\\nLuo\\nMah\\nMai\\nMak\\nMao\\nMar\\nMei\\nMeng\\nMiao\\nMin\\nMing\\nMoy\\nMui\\nNie\\nNiu\\nOu-Yang\\nOw-Yang\\nPan\\nPang\\nPei\\nPeng\\nPing\\nQian\\nQin\\nQiu\\nQuan\\nQue\\nRan\\nRao\\nRong\\nRuan\\nSam\\nSeah\\nSee \\nSeow\\nSeto\\nSha\\nShan\\nShang\\nShao\\nShaw\\nShe\\nShen\\nSheng\\nShi\\nShu\\nShuai\\nShui\\nShum\\nSiew\\nSiu\\nSong\\nSum\\nSun\\nSze \\nTan\\nTang\\nTao\\nTeng\\nTeoh\\nThean\\nThian\\nThien\\nTian\\nTong\\nTow\\nTsang\\nTse\\nTsen\\nTso\\nTze\\nWan\\nWang\\nWei\\nWen\\nWeng\\nWon\\nWong\\nWoo\\nXiang\\nXiao\\nXie\\nXing\\nXue\\nXun\\nYan\\nYang\\nYao\\nYap\\nYau\\nYee\\nYep\\nYim\\nYin\\nYing\\nYong\\nYou\\nYuan\\nZang\\nZeng\\nZha\\nZhan\\nZhang\\nZhao\\nZhen\\nZheng\\nZhong\\nZhou\\nZhu\\nZhuo\\nZong\\nZou\\nBing\\nChi\\nChu\\nCong\\nCuan\\nDan\\nFei\\nFeng\\nGai\\nGao\\nGou\\nGuan\\nGui\\nGuo\\nHong\\nHou\\nHuan\\nJian\\nJiao\\nJin\\nJiu\\nJuan\\nJue\\nKan\\nKuai\\nKuang\\nKui\\nLao\\nLiang\\nLu:\\nLuo\\nMan\\nNao\\nPian\\nQiao\\nQing\\nQiu\\nRang\\nRui\\nShe\\nShi\\nShuo\\nSui\\nTai\\nWan\\nWei\\nXian\\nXie\\nXin\\nXing\\nXiong\\nXuan\\nYan\\nYin\\nYing\\nYuan\\nYue\\nYun\\nZha\\nZhai\\nZhang\\nZhi\\nZhuan\\nZhui'"
      ]
     },
     "execution_count": 5,
     "metadata": {},
     "output_type": "execute_result"
    }
   ],
   "source": [
    "#透過Strip去除空白跟換行符號\n",
    "open('data/names/Chinese.txt', encoding='utf-8').read().strip()"
   ]
  },
  {
   "cell_type": "code",
   "execution_count": 6,
   "metadata": {},
   "outputs": [
    {
     "data": {
      "text/plain": [
       "['Ang',\n",
       " 'Au-Yong',\n",
       " 'Bai',\n",
       " 'Ban',\n",
       " 'Bao',\n",
       " 'Bei',\n",
       " 'Bian',\n",
       " 'Bui',\n",
       " 'Cai',\n",
       " 'Cao',\n",
       " 'Cen',\n",
       " 'Chai',\n",
       " 'Chaim',\n",
       " 'Chan',\n",
       " 'Chang',\n",
       " 'Chao',\n",
       " 'Che',\n",
       " 'Chen',\n",
       " 'Cheng',\n",
       " 'Cheung',\n",
       " 'Chew',\n",
       " 'Chieu',\n",
       " 'Chin',\n",
       " 'Chong',\n",
       " 'Chou',\n",
       " 'Chu',\n",
       " 'Cui',\n",
       " 'Dai',\n",
       " 'Deng',\n",
       " 'Ding',\n",
       " 'Dong',\n",
       " 'Dou',\n",
       " 'Duan',\n",
       " 'Eng',\n",
       " 'Fan',\n",
       " 'Fei',\n",
       " 'Feng',\n",
       " 'Foong',\n",
       " 'Fung',\n",
       " 'Gan',\n",
       " 'Gauk',\n",
       " 'Geng',\n",
       " 'Gim',\n",
       " 'Gok',\n",
       " 'Gong',\n",
       " 'Guan',\n",
       " 'Guang',\n",
       " 'Guo',\n",
       " 'Gwock',\n",
       " 'Han',\n",
       " 'Hang',\n",
       " 'Hao',\n",
       " 'Hew',\n",
       " 'Hiu',\n",
       " 'Hong',\n",
       " 'Hor',\n",
       " 'Hsiao',\n",
       " 'Hua',\n",
       " 'Huan',\n",
       " 'Huang',\n",
       " 'Hui',\n",
       " 'Huie',\n",
       " 'Huo',\n",
       " 'Jia',\n",
       " 'Jiang',\n",
       " 'Jin',\n",
       " 'Jing',\n",
       " 'Joe',\n",
       " 'Kang',\n",
       " 'Kau',\n",
       " 'Khoo',\n",
       " 'Khu',\n",
       " 'Kong',\n",
       " 'Koo',\n",
       " 'Kwan',\n",
       " 'Kwei',\n",
       " 'Kwong',\n",
       " 'Lai',\n",
       " 'Lam',\n",
       " 'Lang',\n",
       " 'Lau',\n",
       " 'Law',\n",
       " 'Lew',\n",
       " 'Lian',\n",
       " 'Liao',\n",
       " 'Lim',\n",
       " 'Lin',\n",
       " 'Ling',\n",
       " 'Liu',\n",
       " 'Loh',\n",
       " 'Long',\n",
       " 'Loong',\n",
       " 'Luo',\n",
       " 'Mah',\n",
       " 'Mai',\n",
       " 'Mak',\n",
       " 'Mao',\n",
       " 'Mar',\n",
       " 'Mei',\n",
       " 'Meng',\n",
       " 'Miao',\n",
       " 'Min',\n",
       " 'Ming',\n",
       " 'Moy',\n",
       " 'Mui',\n",
       " 'Nie',\n",
       " 'Niu',\n",
       " 'Ou-Yang',\n",
       " 'Ow-Yang',\n",
       " 'Pan',\n",
       " 'Pang',\n",
       " 'Pei',\n",
       " 'Peng',\n",
       " 'Ping',\n",
       " 'Qian',\n",
       " 'Qin',\n",
       " 'Qiu',\n",
       " 'Quan',\n",
       " 'Que',\n",
       " 'Ran',\n",
       " 'Rao',\n",
       " 'Rong',\n",
       " 'Ruan',\n",
       " 'Sam',\n",
       " 'Seah',\n",
       " 'See ',\n",
       " 'Seow',\n",
       " 'Seto',\n",
       " 'Sha',\n",
       " 'Shan',\n",
       " 'Shang',\n",
       " 'Shao',\n",
       " 'Shaw',\n",
       " 'She',\n",
       " 'Shen',\n",
       " 'Sheng',\n",
       " 'Shi',\n",
       " 'Shu',\n",
       " 'Shuai',\n",
       " 'Shui',\n",
       " 'Shum',\n",
       " 'Siew',\n",
       " 'Siu',\n",
       " 'Song',\n",
       " 'Sum',\n",
       " 'Sun',\n",
       " 'Sze ',\n",
       " 'Tan',\n",
       " 'Tang',\n",
       " 'Tao',\n",
       " 'Teng',\n",
       " 'Teoh',\n",
       " 'Thean',\n",
       " 'Thian',\n",
       " 'Thien',\n",
       " 'Tian',\n",
       " 'Tong',\n",
       " 'Tow',\n",
       " 'Tsang',\n",
       " 'Tse',\n",
       " 'Tsen',\n",
       " 'Tso',\n",
       " 'Tze',\n",
       " 'Wan',\n",
       " 'Wang',\n",
       " 'Wei',\n",
       " 'Wen',\n",
       " 'Weng',\n",
       " 'Won',\n",
       " 'Wong',\n",
       " 'Woo',\n",
       " 'Xiang',\n",
       " 'Xiao',\n",
       " 'Xie',\n",
       " 'Xing',\n",
       " 'Xue',\n",
       " 'Xun',\n",
       " 'Yan',\n",
       " 'Yang',\n",
       " 'Yao',\n",
       " 'Yap',\n",
       " 'Yau',\n",
       " 'Yee',\n",
       " 'Yep',\n",
       " 'Yim',\n",
       " 'Yin',\n",
       " 'Ying',\n",
       " 'Yong',\n",
       " 'You',\n",
       " 'Yuan',\n",
       " 'Zang',\n",
       " 'Zeng',\n",
       " 'Zha',\n",
       " 'Zhan',\n",
       " 'Zhang',\n",
       " 'Zhao',\n",
       " 'Zhen',\n",
       " 'Zheng',\n",
       " 'Zhong',\n",
       " 'Zhou',\n",
       " 'Zhu',\n",
       " 'Zhuo',\n",
       " 'Zong',\n",
       " 'Zou',\n",
       " 'Bing',\n",
       " 'Chi',\n",
       " 'Chu',\n",
       " 'Cong',\n",
       " 'Cuan',\n",
       " 'Dan',\n",
       " 'Fei',\n",
       " 'Feng',\n",
       " 'Gai',\n",
       " 'Gao',\n",
       " 'Gou',\n",
       " 'Guan',\n",
       " 'Gui',\n",
       " 'Guo',\n",
       " 'Hong',\n",
       " 'Hou',\n",
       " 'Huan',\n",
       " 'Jian',\n",
       " 'Jiao',\n",
       " 'Jin',\n",
       " 'Jiu',\n",
       " 'Juan',\n",
       " 'Jue',\n",
       " 'Kan',\n",
       " 'Kuai',\n",
       " 'Kuang',\n",
       " 'Kui',\n",
       " 'Lao',\n",
       " 'Liang',\n",
       " 'Lu:',\n",
       " 'Luo',\n",
       " 'Man',\n",
       " 'Nao',\n",
       " 'Pian',\n",
       " 'Qiao',\n",
       " 'Qing',\n",
       " 'Qiu',\n",
       " 'Rang',\n",
       " 'Rui',\n",
       " 'She',\n",
       " 'Shi',\n",
       " 'Shuo',\n",
       " 'Sui',\n",
       " 'Tai',\n",
       " 'Wan',\n",
       " 'Wei',\n",
       " 'Xian',\n",
       " 'Xie',\n",
       " 'Xin',\n",
       " 'Xing',\n",
       " 'Xiong',\n",
       " 'Xuan',\n",
       " 'Yan',\n",
       " 'Yin',\n",
       " 'Ying',\n",
       " 'Yuan',\n",
       " 'Yue',\n",
       " 'Yun',\n",
       " 'Zha',\n",
       " 'Zhai',\n",
       " 'Zhang',\n",
       " 'Zhi',\n",
       " 'Zhuan',\n",
       " 'Zhui']"
      ]
     },
     "execution_count": 6,
     "metadata": {},
     "output_type": "execute_result"
    }
   ],
   "source": [
    "#lines = open(filename, encoding='utf-8').read().strip().split('\\n')\n",
    "open('data/names/Chinese.txt', encoding='utf-8').read().strip().split('\\n')"
   ]
  },
  {
   "cell_type": "code",
   "execution_count": 7,
   "metadata": {},
   "outputs": [
    {
     "data": {
      "text/plain": [
       "['data', 'names', 'Chinese.txt']"
      ]
     },
     "execution_count": 7,
     "metadata": {},
     "output_type": "execute_result"
    }
   ],
   "source": [
    "#category = filename.split('/')[-1].split('.')[0]\n",
    "'data/names/Chinese.txt'.split('/')"
   ]
  },
  {
   "cell_type": "code",
   "execution_count": 8,
   "metadata": {},
   "outputs": [
    {
     "data": {
      "text/plain": [
       "'Chinese.txt'"
      ]
     },
     "execution_count": 8,
     "metadata": {},
     "output_type": "execute_result"
    }
   ],
   "source": [
    "#category = filename.split('/')[-1].split('.')[0]\n",
    "'data/names/Chinese.txt'.split('/')[-1]"
   ]
  },
  {
   "cell_type": "code",
   "execution_count": 9,
   "metadata": {},
   "outputs": [
    {
     "data": {
      "text/plain": [
       "['Chinese', 'txt']"
      ]
     },
     "execution_count": 9,
     "metadata": {},
     "output_type": "execute_result"
    }
   ],
   "source": [
    "#category = filename.split('/')[-1].split('.')[0]\n",
    "'data/names/Chinese.txt'.split('/')[-1].split('.')"
   ]
  },
  {
   "cell_type": "code",
   "execution_count": 10,
   "metadata": {},
   "outputs": [
    {
     "data": {
      "text/plain": [
       "'Chinese'"
      ]
     },
     "execution_count": 10,
     "metadata": {},
     "output_type": "execute_result"
    }
   ],
   "source": [
    "#category = filename.split('/')[-1].split('.')[0]\n",
    "'data/names/Chinese.txt'.split('/')[-1].split('.')[0]"
   ]
  },
  {
   "cell_type": "code",
   "execution_count": 11,
   "metadata": {},
   "outputs": [
    {
     "data": {
      "text/plain": [
       "['Arabic',\n",
       " 'Chinese',\n",
       " 'Czech',\n",
       " 'Dutch',\n",
       " 'English',\n",
       " 'French',\n",
       " 'German',\n",
       " 'Greek',\n",
       " 'Irish',\n",
       " 'Italian',\n",
       " 'Japanese',\n",
       " 'Korean',\n",
       " 'Polish',\n",
       " 'Portuguese',\n",
       " 'Russian',\n",
       " 'Scottish',\n",
       " 'Spanish',\n",
       " 'Vietnamese']"
      ]
     },
     "execution_count": 11,
     "metadata": {},
     "output_type": "execute_result"
    }
   ],
   "source": [
    "#分類名稱\n",
    "all_categories"
   ]
  },
  {
   "cell_type": "code",
   "execution_count": 12,
   "metadata": {},
   "outputs": [
    {
     "ename": "SyntaxError",
     "evalue": "invalid syntax (<ipython-input-12-1e3a82aee65e>, line 1)",
     "output_type": "error",
     "traceback": [
      "\u001b[0;36m  File \u001b[0;32m\"<ipython-input-12-1e3a82aee65e>\"\u001b[0;36m, line \u001b[0;32m1\u001b[0m\n\u001b[0;31m    category_lines[]\u001b[0m\n\u001b[0m                   ^\u001b[0m\n\u001b[0;31mSyntaxError\u001b[0m\u001b[0;31m:\u001b[0m invalid syntax\n"
     ]
    }
   ],
   "source": [
    "category_lines[]"
   ]
  },
  {
   "cell_type": "code",
   "execution_count": 13,
   "metadata": {},
   "outputs": [
    {
     "data": {
      "text/plain": [
       "['Ang',\n",
       " 'Au-Yong',\n",
       " 'Bai',\n",
       " 'Ban',\n",
       " 'Bao',\n",
       " 'Bei',\n",
       " 'Bian',\n",
       " 'Bui',\n",
       " 'Cai',\n",
       " 'Cao',\n",
       " 'Cen',\n",
       " 'Chai',\n",
       " 'Chaim',\n",
       " 'Chan',\n",
       " 'Chang',\n",
       " 'Chao',\n",
       " 'Che',\n",
       " 'Chen',\n",
       " 'Cheng',\n",
       " 'Cheung',\n",
       " 'Chew',\n",
       " 'Chieu',\n",
       " 'Chin',\n",
       " 'Chong',\n",
       " 'Chou',\n",
       " 'Chu',\n",
       " 'Cui',\n",
       " 'Dai',\n",
       " 'Deng',\n",
       " 'Ding',\n",
       " 'Dong',\n",
       " 'Dou',\n",
       " 'Duan',\n",
       " 'Eng',\n",
       " 'Fan',\n",
       " 'Fei',\n",
       " 'Feng',\n",
       " 'Foong',\n",
       " 'Fung',\n",
       " 'Gan',\n",
       " 'Gauk',\n",
       " 'Geng',\n",
       " 'Gim',\n",
       " 'Gok',\n",
       " 'Gong',\n",
       " 'Guan',\n",
       " 'Guang',\n",
       " 'Guo',\n",
       " 'Gwock',\n",
       " 'Han',\n",
       " 'Hang',\n",
       " 'Hao',\n",
       " 'Hew',\n",
       " 'Hiu',\n",
       " 'Hong',\n",
       " 'Hor',\n",
       " 'Hsiao',\n",
       " 'Hua',\n",
       " 'Huan',\n",
       " 'Huang',\n",
       " 'Hui',\n",
       " 'Huie',\n",
       " 'Huo',\n",
       " 'Jia',\n",
       " 'Jiang',\n",
       " 'Jin',\n",
       " 'Jing',\n",
       " 'Joe',\n",
       " 'Kang',\n",
       " 'Kau',\n",
       " 'Khoo',\n",
       " 'Khu',\n",
       " 'Kong',\n",
       " 'Koo',\n",
       " 'Kwan',\n",
       " 'Kwei',\n",
       " 'Kwong',\n",
       " 'Lai',\n",
       " 'Lam',\n",
       " 'Lang',\n",
       " 'Lau',\n",
       " 'Law',\n",
       " 'Lew',\n",
       " 'Lian',\n",
       " 'Liao',\n",
       " 'Lim',\n",
       " 'Lin',\n",
       " 'Ling',\n",
       " 'Liu',\n",
       " 'Loh',\n",
       " 'Long',\n",
       " 'Loong',\n",
       " 'Luo',\n",
       " 'Mah',\n",
       " 'Mai',\n",
       " 'Mak',\n",
       " 'Mao',\n",
       " 'Mar',\n",
       " 'Mei',\n",
       " 'Meng',\n",
       " 'Miao',\n",
       " 'Min',\n",
       " 'Ming',\n",
       " 'Moy',\n",
       " 'Mui',\n",
       " 'Nie',\n",
       " 'Niu',\n",
       " 'Ou-Yang',\n",
       " 'Ow-Yang',\n",
       " 'Pan',\n",
       " 'Pang',\n",
       " 'Pei',\n",
       " 'Peng',\n",
       " 'Ping',\n",
       " 'Qian',\n",
       " 'Qin',\n",
       " 'Qiu',\n",
       " 'Quan',\n",
       " 'Que',\n",
       " 'Ran',\n",
       " 'Rao',\n",
       " 'Rong',\n",
       " 'Ruan',\n",
       " 'Sam',\n",
       " 'Seah',\n",
       " 'See ',\n",
       " 'Seow',\n",
       " 'Seto',\n",
       " 'Sha',\n",
       " 'Shan',\n",
       " 'Shang',\n",
       " 'Shao',\n",
       " 'Shaw',\n",
       " 'She',\n",
       " 'Shen',\n",
       " 'Sheng',\n",
       " 'Shi',\n",
       " 'Shu',\n",
       " 'Shuai',\n",
       " 'Shui',\n",
       " 'Shum',\n",
       " 'Siew',\n",
       " 'Siu',\n",
       " 'Song',\n",
       " 'Sum',\n",
       " 'Sun',\n",
       " 'Sze ',\n",
       " 'Tan',\n",
       " 'Tang',\n",
       " 'Tao',\n",
       " 'Teng',\n",
       " 'Teoh',\n",
       " 'Thean',\n",
       " 'Thian',\n",
       " 'Thien',\n",
       " 'Tian',\n",
       " 'Tong',\n",
       " 'Tow',\n",
       " 'Tsang',\n",
       " 'Tse',\n",
       " 'Tsen',\n",
       " 'Tso',\n",
       " 'Tze',\n",
       " 'Wan',\n",
       " 'Wang',\n",
       " 'Wei',\n",
       " 'Wen',\n",
       " 'Weng',\n",
       " 'Won',\n",
       " 'Wong',\n",
       " 'Woo',\n",
       " 'Xiang',\n",
       " 'Xiao',\n",
       " 'Xie',\n",
       " 'Xing',\n",
       " 'Xue',\n",
       " 'Xun',\n",
       " 'Yan',\n",
       " 'Yang',\n",
       " 'Yao',\n",
       " 'Yap',\n",
       " 'Yau',\n",
       " 'Yee',\n",
       " 'Yep',\n",
       " 'Yim',\n",
       " 'Yin',\n",
       " 'Ying',\n",
       " 'Yong',\n",
       " 'You',\n",
       " 'Yuan',\n",
       " 'Zang',\n",
       " 'Zeng',\n",
       " 'Zha',\n",
       " 'Zhan',\n",
       " 'Zhang',\n",
       " 'Zhao',\n",
       " 'Zhen',\n",
       " 'Zheng',\n",
       " 'Zhong',\n",
       " 'Zhou',\n",
       " 'Zhu',\n",
       " 'Zhuo',\n",
       " 'Zong',\n",
       " 'Zou',\n",
       " 'Bing',\n",
       " 'Chi',\n",
       " 'Chu',\n",
       " 'Cong',\n",
       " 'Cuan',\n",
       " 'Dan',\n",
       " 'Fei',\n",
       " 'Feng',\n",
       " 'Gai',\n",
       " 'Gao',\n",
       " 'Gou',\n",
       " 'Guan',\n",
       " 'Gui',\n",
       " 'Guo',\n",
       " 'Hong',\n",
       " 'Hou',\n",
       " 'Huan',\n",
       " 'Jian',\n",
       " 'Jiao',\n",
       " 'Jin',\n",
       " 'Jiu',\n",
       " 'Juan',\n",
       " 'Jue',\n",
       " 'Kan',\n",
       " 'Kuai',\n",
       " 'Kuang',\n",
       " 'Kui',\n",
       " 'Lao',\n",
       " 'Liang',\n",
       " 'Lu:',\n",
       " 'Luo',\n",
       " 'Man',\n",
       " 'Nao',\n",
       " 'Pian',\n",
       " 'Qiao',\n",
       " 'Qing',\n",
       " 'Qiu',\n",
       " 'Rang',\n",
       " 'Rui',\n",
       " 'She',\n",
       " 'Shi',\n",
       " 'Shuo',\n",
       " 'Sui',\n",
       " 'Tai',\n",
       " 'Wan',\n",
       " 'Wei',\n",
       " 'Xian',\n",
       " 'Xie',\n",
       " 'Xin',\n",
       " 'Xing',\n",
       " 'Xiong',\n",
       " 'Xuan',\n",
       " 'Yan',\n",
       " 'Yin',\n",
       " 'Ying',\n",
       " 'Yuan',\n",
       " 'Yue',\n",
       " 'Yun',\n",
       " 'Zha',\n",
       " 'Zhai',\n",
       " 'Zhang',\n",
       " 'Zhi',\n",
       " 'Zhuan',\n",
       " 'Zhui']"
      ]
     },
     "execution_count": 13,
     "metadata": {},
     "output_type": "execute_result"
    }
   ],
   "source": [
    "lines = readLines('data/names/Chinese.txt')\n",
    "lines"
   ]
  },
  {
   "cell_type": "code",
   "execution_count": 2,
   "metadata": {},
   "outputs": [
    {
     "name": "stdout",
     "output_type": "stream",
     "text": [
      "all_letters: 57\n",
      "n_categories: 18\n"
     ]
    }
   ],
   "source": [
    "print(\"all_letters: \"+str(len(all_letters)))\n",
    "print(\"n_categories: \"+str(n_categories))\n",
    "#print(\"category_lines:\"+str(category_lines['雙亡'][:5]))"
   ]
  },
  {
   "cell_type": "markdown",
   "metadata": {},
   "source": [
    "## 講解程式碼結束"
   ]
  },
  {
   "cell_type": "code",
   "execution_count": 15,
   "metadata": {
    "collapsed": true
   },
   "outputs": [],
   "source": [
    "#在PyTorch中，我們需要將名字數據轉換成Tensor才能在模型中讀入使用。\n",
    "#在本文中，最小粒度為字母，意思是我們將名字裡面的每個字母都作為一個獨立的語言粒度來處理，\n",
    "#為了數學化字母，我們這裡使用”One Hot Encoding”來表示，這裡每個字母被表示成<1 * 57>的向量。\n",
    "#由於名字由多個字母組成，所以每個名字就被表示成了2D的矩陣<名字字符個數 乘 1 乘 57>。\n",
    "\n",
    "#為了表示單個字母，我們使用大小<1 x n_letters>的“One Hot Encoding”，如：“b”= <0 1 0 0 0 ...>。\n",
    "\n",
    "#額外的1維度是因為PyTorch假設所有內容都是批量的 - 我們在這裡只使用1的批量大小。"
   ]
  },
  {
   "cell_type": "code",
   "execution_count": 79,
   "metadata": {},
   "outputs": [
    {
     "name": "stdout",
     "output_type": "stream",
     "text": [
      "tensor([[ 0.,  1.,  0.,  0.,  0.,  0.,  0.,  0.,  0.,  0.,  0.,  0.,\n",
      "          0.,  0.,  0.,  0.,  0.,  0.,  0.,  0.,  0.,  0.,  0.,  0.,\n",
      "          0.,  0.,  0.,  0.,  0.,  0.,  0.,  0.,  0.,  0.,  0.,  0.,\n",
      "          0.,  0.,  0.,  0.,  0.,  0.,  0.,  0.,  0.,  0.,  0.,  0.,\n",
      "          0.,  0.,  0.,  0.,  0.,  0.,  0.,  0.,  0.]])\n",
      "torch.Size([5, 1, 57])\n"
     ]
    }
   ],
   "source": [
    "import torch\n",
    "\n",
    "# 建立函式方便尋找all_letters的Index像是\"a\"=10000000000....\n",
    "def letterToIndex(letter):\n",
    "    return all_letters.find(letter)\n",
    "\n",
    "# 將一個字母轉成Tensor顯示\n",
    "def letterToTensor(letter):\n",
    "    tensor = torch.zeros(1, n_letters) #建立一個1*57的Tensor\n",
    "    tensor[0][letterToIndex(letter)] = 1\n",
    "    return tensor\n",
    "\n",
    "# 建立one-hot letter vectors\n",
    "def lineToTensor(line):\n",
    "    tensor = torch.zeros(len(line), 1, n_letters)\n",
    "    for li, letter in enumerate(line):\n",
    "        tensor[li][0][letterToIndex(letter)] = 1\n",
    "    return tensor\n",
    "\n",
    "print(letterToTensor('b')) #將內容轉為字母 #ex. a,b,c..\n",
    "print(lineToTensor('Jones').size()) #5為字母個數、1為維度、57為總字母"
   ]
  },
  {
   "cell_type": "markdown",
   "metadata": {},
   "source": [
    "## 程式碼講解"
   ]
  },
  {
   "cell_type": "code",
   "execution_count": 158,
   "metadata": {
    "collapsed": true
   },
   "outputs": [],
   "source": [
    "def lineToTensor(line):\n",
    "    tensor = torch.zeros(len(line), 1, n_letters)#依據輸入長度，建立1維，長度57個字母的Tensor\n",
    "    for li, letter in enumerate(line):\n",
    "        tensor[li][0][letterToIndex(letter)] = 1\n",
    "    return tensor"
   ]
  },
  {
   "cell_type": "code",
   "execution_count": 18,
   "metadata": {},
   "outputs": [
    {
     "data": {
      "text/plain": [
       "tensor([[[ 1.,  0.,  0.,  0.,  0.,  0.,  0.,  0.,  0.,  0.,  0.,\n",
       "           0.,  0.,  0.,  0.,  0.,  0.,  0.,  0.,  0.,  0.,  0.,\n",
       "           0.,  0.,  0.,  0.,  0.,  0.,  0.,  0.,  0.,  0.,  0.,\n",
       "           0.,  0.,  0.,  0.,  0.,  0.,  0.,  0.,  0.,  0.,  0.,\n",
       "           0.,  0.,  0.,  0.,  0.,  0.,  0.,  0.,  0.,  0.,  0.,\n",
       "           0.,  0.]]])"
      ]
     },
     "execution_count": 18,
     "metadata": {},
     "output_type": "execute_result"
    }
   ],
   "source": [
    "lineToTensor('a')"
   ]
  },
  {
   "cell_type": "markdown",
   "metadata": {},
   "source": [
    "## 程式碼講解結束"
   ]
  },
  {
   "cell_type": "code",
   "execution_count": null,
   "metadata": {
    "collapsed": true
   },
   "outputs": [],
   "source": []
  },
  {
   "cell_type": "code",
   "execution_count": 159,
   "metadata": {
    "collapsed": true
   },
   "outputs": [],
   "source": [
    "import torch.nn as nn\n",
    "\n",
    " \n",
    "class RNN(nn.Module):\n",
    "    def __init__(self, input_size, hidden_size, output_size):\n",
    "        super(RNN, self).__init__()\n",
    "\n",
    "        self.hidden_size = hidden_size\n",
    "\n",
    "        self.i2h = nn.Linear(input_size + hidden_size, hidden_size) #做input線性轉換\n",
    "        self.i2o = nn.Linear(input_size + hidden_size, output_size) #做output線性轉換\n",
    "        self.softmax = nn.LogSoftmax(dim=1) #透過Softmax做歸一化\n",
    "\n",
    "    def forward(self, input, hidden):\n",
    "        combined = torch.cat((input, hidden), 1) #將輸入層與隱藏層做整合\n",
    "        hidden = self.i2h(combined) #將輸入層、隱藏層 \n",
    "        output = self.i2o(combined) #將輸入層、隱藏層\n",
    "        output = self.softmax(output)#透過Softmax做歸一化\n",
    "        return output, hidden\n",
    "\n",
    "    def initHidden(self): #初始化隱藏層\n",
    "        return torch.zeros(1, self.hidden_size)\n",
    "\n",
    "n_hidden = 128\n",
    "rnn = RNN(n_letters, n_hidden, n_categories) #57個字母,隱藏層數,分類共18個語言"
   ]
  },
  {
   "cell_type": "code",
   "execution_count": 71,
   "metadata": {},
   "outputs": [
    {
     "data": {
      "text/plain": [
       "(57, 128, 18)"
      ]
     },
     "execution_count": 71,
     "metadata": {},
     "output_type": "execute_result"
    }
   ],
   "source": [
    "n_letters, n_hidden, n_categories "
   ]
  },
  {
   "cell_type": "markdown",
   "metadata": {},
   "source": [
    "為了運行這個網絡的一個步(step)，我們需要傳入輸入（在我們的例子中，當前字母的張量）和一個先前的隱藏狀態（初始化為零）。我們將返回輸出（每種語言的概率）和下一個隱藏狀態（我們為下一步保留）。"
   ]
  },
  {
   "cell_type": "code",
   "execution_count": 20,
   "metadata": {},
   "outputs": [
    {
     "name": "stdout",
     "output_type": "stream",
     "text": [
      "tensor([[-2.8298, -2.8878, -2.9380, -2.8052, -2.8213, -2.9298, -2.8267,\n",
      "         -2.8566, -2.8708, -2.9233, -2.9994, -2.9105, -2.9050, -2.8537,\n",
      "         -3.0061, -2.9458, -2.8728, -2.8724]])\n"
     ]
    }
   ],
   "source": [
    "input = letterToTensor('A')\n",
    "hidden =torch.zeros(1, n_hidden)\n",
    "\n",
    "output, next_hidden = rnn(input, hidden)\n",
    "print(output)"
   ]
  },
  {
   "cell_type": "markdown",
   "metadata": {},
   "source": [
    "為了提高效率，我們不希望為每一步創建一個新的Tensor，因此我們將使用lineToTensor而不是letterToTensor並使用切片。這可以通過預先計算批次的張量進一步優化。"
   ]
  },
  {
   "cell_type": "code",
   "execution_count": 82,
   "metadata": {},
   "outputs": [
    {
     "name": "stdout",
     "output_type": "stream",
     "text": [
      "tensor([[-2.9018, -2.8408, -2.8264, -2.9959, -2.6047, -2.7720, -2.4425,\n",
      "         -3.9174, -3.0450, -3.4946, -3.2141, -2.1327, -3.1348, -3.4730,\n",
      "         -2.9231, -3.0066, -3.1109, -2.5878]])\n"
     ]
    }
   ],
   "source": [
    "input = lineToTensor('Albert')\n",
    "hidden = torch.zeros(1, n_hidden)\n",
    "\n",
    "output, next_hidden = rnn(input[0], hidden)\n",
    "print(output)"
   ]
  },
  {
   "cell_type": "markdown",
   "metadata": {},
   "source": [
    "正如您所看到的，輸出是<1 x n_categories> Tensor，其中每個項目都是該類別的可能性（更高的可能性更高）。"
   ]
  },
  {
   "cell_type": "markdown",
   "metadata": {},
   "source": [
    "## 訓練\n",
    "## 訓練前準備"
   ]
  },
  {
   "cell_type": "code",
   "execution_count": 5,
   "metadata": {},
   "outputs": [
    {
     "ename": "NameError",
     "evalue": "name 'output' is not defined",
     "output_type": "error",
     "traceback": [
      "\u001b[0;31m---------------------------------------------------------------------------\u001b[0m",
      "\u001b[0;31mNameError\u001b[0m                                 Traceback (most recent call last)",
      "\u001b[0;32m<ipython-input-5-b3b5a9a0b4a1>\u001b[0m in \u001b[0;36m<module>\u001b[0;34m()\u001b[0m\n\u001b[1;32m      4\u001b[0m     \u001b[0;32mreturn\u001b[0m \u001b[0mall_categories\u001b[0m\u001b[0;34m[\u001b[0m\u001b[0mcategory_i\u001b[0m\u001b[0;34m]\u001b[0m\u001b[0;34m,\u001b[0m \u001b[0mcategory_i\u001b[0m\u001b[0;34m\u001b[0m\u001b[0m\n\u001b[1;32m      5\u001b[0m \u001b[0;34m\u001b[0m\u001b[0m\n\u001b[0;32m----> 6\u001b[0;31m \u001b[0mprint\u001b[0m\u001b[0;34m(\u001b[0m\u001b[0mcategoryFromOutput\u001b[0m\u001b[0;34m(\u001b[0m\u001b[0moutput\u001b[0m\u001b[0;34m)\u001b[0m\u001b[0;34m)\u001b[0m\u001b[0;34m\u001b[0m\u001b[0m\n\u001b[0m",
      "\u001b[0;31mNameError\u001b[0m: name 'output' is not defined"
     ]
    }
   ],
   "source": [
    "def categoryFromOutput(output): #透過topk取出比較好的結果\n",
    "    top_n, top_i = output.topk(1) #Pytorch內建topk()\n",
    "    category_i = top_i[0].item() \n",
    "    return all_categories[category_i], category_i\n",
    "\n",
    "print(categoryFromOutput(output))"
   ]
  },
  {
   "cell_type": "markdown",
   "metadata": {},
   "source": [
    "在進入培訓之前，我們應該做一些輔助功能。第一個是解釋網絡的輸出，我們知道這是每個類別的可能性。我們可以使用Tensor.topk獲取最大價值的索引"
   ]
  },
  {
   "cell_type": "code",
   "execution_count": 161,
   "metadata": {},
   "outputs": [
    {
     "name": "stdout",
     "output_type": "stream",
     "text": [
      "category = Czech / line = Kusak\n",
      "category = Spanish / line = Oleastro\n",
      "category = German / line = Strand\n",
      "category = Portuguese / line = Franco\n",
      "category = Greek / line = Horiatis\n"
     ]
    }
   ],
   "source": [
    "#我們也想要一個快速的方式來獲得一個訓練樣例（一個名字和它的語言）：\n",
    "import random\n",
    "\n",
    "def randomChoice(l):\n",
    "    return l[random.randint(0, len(l) - 1)] #取0~ 分類個數減1的範圍 0~17\n",
    "\n",
    "def randomTrainingExample():\n",
    "    category = randomChoice(all_categories) #隨機選擇分類\n",
    "    line = randomChoice(category_lines[category]) #取得該分類的細部資料\n",
    "    category_tensor = torch.tensor([all_categories.index(category)], dtype=torch.long)#取得整個分類的Index\n",
    "    line_tensor = lineToTensor(line) #將分類細部資料轉換one-hot vector\n",
    "    return category, line, category_tensor, line_tensor #分類名稱、分類的細部資料、分類的Index、One-hot vector的結果\n",
    "\n",
    "for i in range(5):\n",
    "    category, line, category_tensor, line_tensor = randomTrainingExample()\n",
    "    print('category =', category, '/ line =', line)"
   ]
  },
  {
   "cell_type": "code",
   "execution_count": null,
   "metadata": {
    "collapsed": true
   },
   "outputs": [],
   "source": []
  },
  {
   "cell_type": "code",
   "execution_count": null,
   "metadata": {
    "collapsed": true
   },
   "outputs": [],
   "source": []
  },
  {
   "cell_type": "code",
   "execution_count": null,
   "metadata": {
    "collapsed": true
   },
   "outputs": [],
   "source": []
  },
  {
   "cell_type": "code",
   "execution_count": null,
   "metadata": {
    "collapsed": true
   },
   "outputs": [],
   "source": []
  },
  {
   "cell_type": "code",
   "execution_count": null,
   "metadata": {
    "collapsed": true
   },
   "outputs": [],
   "source": []
  },
  {
   "cell_type": "code",
   "execution_count": null,
   "metadata": {
    "collapsed": true
   },
   "outputs": [],
   "source": []
  },
  {
   "cell_type": "code",
   "execution_count": null,
   "metadata": {
    "collapsed": true
   },
   "outputs": [],
   "source": []
  },
  {
   "cell_type": "markdown",
   "metadata": {},
   "source": [
    "訓練過程如下：\n",
    "1.創建輸入和目標張量  \n",
    "2.創建一個初始隱藏狀態(0初始化)  \n",
    "3.輸入該步字母然後保持該步的隱藏狀態，將此隱藏狀態和下一步的字母輸入一起組成下一步輸出  \n",
    "4.比較最終輸出結果和標記目標(類)   \n",
    "5.反向傳播(並且更新參數)  \n",
    "6.返回輸出和損失  "
   ]
  },
  {
   "cell_type": "code",
   "execution_count": 162,
   "metadata": {
    "collapsed": true
   },
   "outputs": [],
   "source": [
    "#衡量標準\n",
    "criterion = nn.NLLLoss() #用於多分類模型，全名Negative Log Likelihood，通常用於最後一層是softmax"
   ]
  },
  {
   "cell_type": "code",
   "execution_count": 124,
   "metadata": {},
   "outputs": [
    {
     "data": {
      "text/plain": [
       "RNN(\n",
       "  (i2h): Linear(in_features=185, out_features=128, bias=True)\n",
       "  (i2o): Linear(in_features=185, out_features=18, bias=True)\n",
       "  (softmax): LogSoftmax()\n",
       ")"
      ]
     },
     "execution_count": 124,
     "metadata": {},
     "output_type": "execute_result"
    }
   ],
   "source": [
    "rnn"
   ]
  },
  {
   "cell_type": "code",
   "execution_count": 163,
   "metadata": {
    "collapsed": true
   },
   "outputs": [],
   "source": [
    "learning_rate = 0.005\n",
    "\n",
    "def train(category_tensor, line_tensor):\n",
    "    hidden = rnn.initHidden() #初始化隱藏層\n",
    "\n",
    "    rnn.zero_grad() #初始化優化的狀態\n",
    "\n",
    "    for i in range(line_tensor.size()[0]): #取得每個細項的矩陣內容，每一個都跑一次RNN\n",
    "        output, hidden = rnn(line_tensor[i], hidden) #rnn(input[0], hidden) 輸出結果\n",
    "\n",
    "    loss = criterion(output, category_tensor) #透過NLLLoss獲得Loss\n",
    "    loss.backward() #進行反向傳播\n",
    "\n",
    "    # Add parameters' gradients to their values, multiplied by learning rate\n",
    "    for p in rnn.parameters(): #依據每一層做處理\n",
    "        p.data.add_(-learning_rate, p.grad.data)#從每一層加上學習速率\n",
    "\n",
    "    return output, loss.item() #回傳運算成果"
   ]
  },
  {
   "cell_type": "markdown",
   "metadata": {},
   "source": [
    "現在我們只需要用一堆例子來運行它。由於功能返回輸出和損失，我們可以印出預測結果，並記錄繪圖的損失。打印每一個print_every的例子，並且取平均值。"
   ]
  },
  {
   "cell_type": "code",
   "execution_count": 176,
   "metadata": {},
   "outputs": [
    {
     "name": "stdout",
     "output_type": "stream",
     "text": [
      "5000 5% (0m 5s) 1.4092 Rao / Vietnamese ✗ (Chinese)\n",
      "10000 10% (0m 11s) 1.5664 Teunissen / Dutch ✓\n",
      "15000 15% (0m 17s) 1.8509 Estévez / Polish ✗ (Spanish)\n",
      "20000 20% (0m 22s) 2.3377 Mcphee / Scottish ✗ (English)\n",
      "25000 25% (0m 27s) 0.5078 You / Korean ✓\n",
      "30000 30% (0m 33s) 0.8315 Chun / Korean ✓\n",
      "35000 35% (0m 39s) 1.0974 Acconcio / Italian ✓\n",
      "40000 40% (0m 44s) 2.5380 Winther / Arabic ✗ (German)\n",
      "45000 45% (0m 49s) 0.4715 O'Byrne / Irish ✓\n",
      "50000 50% (0m 56s) 1.6195 Movchun / Irish ✗ (Russian)\n",
      "55000 55% (1m 1s) 1.1086 Snyder / Dutch ✓\n",
      "60000 60% (1m 6s) 1.3461 Royer / French ✓\n",
      "65000 65% (1m 11s) 2.6547 Martel / Portuguese ✗ (French)\n",
      "70000 70% (1m 16s) 1.6927 Cann / Chinese ✗ (Dutch)\n",
      "75000 75% (1m 21s) 1.0708 Krupala / Czech ✓\n",
      "80000 80% (1m 27s) 2.6342 Sloan / Scottish ✗ (English)\n",
      "85000 85% (1m 31s) 0.1599 Hyun  / Korean ✓\n",
      "90000 90% (1m 37s) 1.3611 Casales / Portuguese ✗ (Spanish)\n",
      "95000 95% (1m 42s) 3.0162 Rios / Portuguese ✗ (Spanish)\n",
      "100000 100% (1m 48s) 1.5849 Ter Avest / French ✗ (Dutch)\n"
     ]
    }
   ],
   "source": [
    "import time\n",
    "import math\n",
    "\n",
    "n_iters = 100000 #100000\n",
    "print_every = 5000 #每print_every印出\n",
    "plot_every = 1000 #每plot_every印出\n",
    "\n",
    "\n",
    "# Keep track of losses for plotting\n",
    "current_loss = 0 #初始為0\n",
    "all_losses = [] \n",
    "\n",
    "def timeSince(since): #計算花費時間\n",
    "    now = time.time()\n",
    "    s = now - since #現在時間 減掉 開始時間\n",
    "    m = math.floor(s / 60) #將秒數整理一下\n",
    "    s -= m * 60\n",
    "    return '%dm %ds' % (m, s)\n",
    "\n",
    "start = time.time()\n",
    "\n",
    "for iter in range(1, n_iters + 1): #n_iters + 1 因為從0開始算\n",
    "    category, line, category_tensor, line_tensor = randomTrainingExample() #取得隨機的資料\n",
    "    output, loss = train(category_tensor, line_tensor) #進行訓練\n",
    "    current_loss += loss #將Loss做累計\n",
    "\n",
    "    # Print iter number, loss, name and guess\n",
    "    if iter % print_every == 0: #當迴圈 除以print_every餘數為0則印出\n",
    "        guess, guess_i = categoryFromOutput(output) #取得output結果，放入categoryFromOutput判斷是否為同一個\n",
    "        correct = '✓' if guess == category else '✗ (%s)' % category\n",
    "        print('%d %d%% (%s) %.4f %s / %s %s' % (iter, iter / n_iters * 100, timeSince(start), loss, line, guess, correct))\n",
    "\n",
    "    # Add current loss avg to list of losses\n",
    "    if iter % plot_every == 0: #提供給plot_every不能比print_every多，因為plot_every要畫圖。\n",
    "        all_losses.append(current_loss / plot_every)\n",
    "        current_loss = 0"
   ]
  },
  {
   "cell_type": "code",
   "execution_count": 175,
   "metadata": {},
   "outputs": [
    {
     "data": {
      "image/png": "[encoded data removed]",
      "text/plain": [
       "<Figure size 432x288 with 1 Axes>"
      ]
     },
     "metadata": {},
     "output_type": "display_data"
    }
   ],
   "source": [
    "import matplotlib.pyplot as plt\n",
    "import matplotlib.ticker as ticker\n",
    "\n",
    "plt.figure()\n",
    "plt.plot(all_losses)\n",
    "\n",
    "\n",
    "#################################################\n",
    "# 建立混淆矩陣\n",
    "confusion = torch.zeros(n_categories, n_categories)\n",
    "n_confusion = 10000\n",
    "\n",
    "# 回傳輸出\n",
    "def evaluate(line_tensor):\n",
    "    hidden = rnn.initHidden()\n",
    "\n",
    "    for i in range(line_tensor.size()[0]):\n",
    "        output, hidden = rnn(line_tensor[i], hidden)\n",
    "\n",
    "    return output\n",
    "\n",
    "# 檢視正確猜到的紀錄\n",
    "for i in range(n_confusion):\n",
    "    category, line, category_tensor, line_tensor = randomTrainingExample()\n",
    "    output = evaluate(line_tensor)\n",
    "    guess, guess_i = categoryFromOutput(output)\n",
    "    category_i = all_categories.index(category)\n",
    "    confusion[category_i][guess_i] += 1\n",
    "\n",
    "# 進行歸一化（變成0~1）\n",
    "for i in range(n_categories):\n",
    "    confusion[i] = confusion[i] / confusion[i].sum()\n",
    "\n",
    "# 畫圖\n",
    "fig = plt.figure()\n",
    "ax = fig.add_subplot(111)\n",
    "cax = ax.matshow(confusion.numpy())\n",
    "fig.colorbar(cax)\n",
    "\n",
    "# 設定xy軸\n",
    "ax.set_xticklabels([''] + all_categories, rotation=90)\n",
    "ax.set_yticklabels([''] + all_categories)\n",
    "\n",
    "# 建立標籤\n",
    "ax.xaxis.set_major_locator(ticker.MultipleLocator(1))\n",
    "ax.yaxis.set_major_locator(ticker.MultipleLocator(1))\n",
    "\n",
    "plt.show()"
   ]
  },
  {
   "cell_type": "code",
   "execution_count": 203,
   "metadata": {},
   "outputs": [
    {
     "name": "stdout",
     "output_type": "stream",
     "text": [
      "\n",
      "> Bill\n",
      "Irish\n",
      "English\n",
      "Scottish\n",
      "German\n",
      "Czech\n",
      "\n",
      "> Jerry\n",
      "Scottish\n",
      "English\n",
      "French\n",
      "Czech\n",
      "Dutch\n"
     ]
    }
   ],
   "source": [
    "#進行數值預測\n",
    "def predict(input_line, n_predictions=5): #n_predictions設定要預測的數量\n",
    "    print('\\n> %s' % input_line) #印出名稱\n",
    "    with torch.no_grad(): #no_grad在上下文中切掉梯度\n",
    "        output = evaluate(lineToTensor(input_line))\n",
    "\n",
    "        # 獲得N個類別\n",
    "        topv, topi = output.topk(n_predictions, 1) #n_predictions為個數、維度為1\n",
    "        #topv原始值、topi索引值\n",
    "        predictions = []\n",
    "\n",
    "        for i in range(n_predictions): #取得預測結果\n",
    "            value = topv[0][i].item() #取得第i個值\n",
    "            category_index = topi[0][i].item() #取得第i個值的索引值\n",
    "            print(all_categories[category_index]) #category_index就是預測的分類結果\n",
    "            #print('(%.2f) %s' % (value, all_categories[category_index]))\n",
    "            predictions.append([value, all_categories[category_index]])\n",
    "\n",
    "predict('Bill')\n",
    "predict('Jerry')"
   ]
  },
  {
   "cell_type": "code",
   "execution_count": 201,
   "metadata": {
    "collapsed": true
   },
   "outputs": [],
   "source": [
    "#透過本程式實作文件分類，加上jieba，預計30分鐘"
   ]
  },
  {
   "cell_type": "code",
   "execution_count": null,
   "metadata": {
    "collapsed": true
   },
   "outputs": [],
   "source": []
  }
 ],
 "metadata": {
  "kernelspec": {
   "display_name": "Python 3",
   "language": "python",
   "name": "python3"
  },
  "language_info": {
   "codemirror_mode": {
    "name": "ipython",
    "version": 3
   },
   "file_extension": ".py",
   "mimetype": "text/x-python",
   "name": "python",
   "nbconvert_exporter": "python",
   "pygments_lexer": "ipython3",
   "version": "3.6.3"
  }
 },
 "nbformat": 4,
 "nbformat_minor": 2
}
