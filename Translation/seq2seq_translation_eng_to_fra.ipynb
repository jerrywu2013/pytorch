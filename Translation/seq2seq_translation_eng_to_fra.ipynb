{
 "cells": [
  {
   "cell_type": "code",
   "execution_count": 71,
   "metadata": {
    "collapsed": true
   },
   "outputs": [],
   "source": [
    "%matplotlib inline"
   ]
  },
  {
   "cell_type": "code",
   "execution_count": 207,
   "metadata": {
    "collapsed": true
   },
   "outputs": [],
   "source": [
    "from __future__ import unicode_literals, print_function, division\n",
    "from io import open\n",
    "import unicodedata\n",
    "import string\n",
    "import re\n",
    "import random\n",
    "\n",
    "import torch\n",
    "import torch.nn as nn\n",
    "from torch import optim\n",
    "import torch.nn.functional as F\n",
    "\n",
    "device = torch.device(\"cuda\" if torch.cuda.is_available() else \"cpu\")"
   ]
  },
  {
   "cell_type": "code",
   "execution_count": 208,
   "metadata": {
    "collapsed": true
   },
   "outputs": [],
   "source": [
    "# Unicode string to ASCII\n",
    "# http://stackoverflow.com/a/518232/2809427\n",
    "def unicodeToAscii(s):\n",
    "    return ''.join(\n",
    "        c for c in unicodedata.normalize('NFD', s) #NFD, Normalization Form Decomposition 標準分解\n",
    "        if unicodedata.category(c) != 'Mn'\n",
    "    )\n"
   ]
  },
  {
   "cell_type": "markdown",
   "metadata": {},
   "source": [
    "## unicodedata.normalize講解"
   ]
  },
  {
   "cell_type": "code",
   "execution_count": 75,
   "metadata": {},
   "outputs": [
    {
     "data": {
      "text/plain": [
       "False"
      ]
     },
     "execution_count": 75,
     "metadata": {},
     "output_type": "execute_result"
    }
   ],
   "source": [
    "###unicodedata.normalize\n",
    "s1 = 'Spicy Jalape\\u00f1o' #整体字符\n",
    "s2 = 'Spicy Jalapen\\u0303o' #原始字母＋組合字符\n",
    "s1 == s2\n",
    "#len(s1)\n",
    "#len(s2)"
   ]
  },
  {
   "cell_type": "code",
   "execution_count": 76,
   "metadata": {},
   "outputs": [
    {
     "data": {
      "text/plain": [
       "'Spicy Jalapeño'"
      ]
     },
     "execution_count": 76,
     "metadata": {},
     "output_type": "execute_result"
    }
   ],
   "source": [
    "s2"
   ]
  },
  {
   "cell_type": "code",
   "execution_count": 77,
   "metadata": {},
   "outputs": [
    {
     "data": {
      "text/plain": [
       "'Spicy Jalapeño'"
      ]
     },
     "execution_count": 77,
     "metadata": {},
     "output_type": "execute_result"
    }
   ],
   "source": [
    "s1"
   ]
  },
  {
   "cell_type": "code",
   "execution_count": 78,
   "metadata": {},
   "outputs": [
    {
     "data": {
      "text/plain": [
       "True"
      ]
     },
     "execution_count": 78,
     "metadata": {},
     "output_type": "execute_result"
    }
   ],
   "source": [
    "t3 = unicodedata.normalize('NFD', s1)\n",
    "t4 = unicodedata.normalize('NFD', s2)\n",
    "t3 == t4"
   ]
  },
  {
   "cell_type": "code",
   "execution_count": 46,
   "metadata": {
    "collapsed": true
   },
   "outputs": [],
   "source": [
    "# 刪除不必要的小寫、刪除非字母字符\n",
    "\n",
    "def normalizeString(s):\n",
    "    s = unicodeToAscii(s.lower().strip())\n",
    "    s = re.sub(r\"([.!?])\", r\" \\1\", s)\n",
    "    s = re.sub(r\"[^a-zA-Z.!?]+\", r\" \", s)\n",
    "    return s\n"
   ]
  },
  {
   "cell_type": "markdown",
   "metadata": {},
   "source": [
    "## unicodedata.normalize講解結束"
   ]
  },
  {
   "cell_type": "code",
   "execution_count": 1,
   "metadata": {
    "collapsed": true
   },
   "outputs": [],
   "source": [
    "#要讀取數據文件，我們將文件拆分為行\n",
    "#這些文件都是英文→其他語言，所以如果我們\n",
    "#想翻譯其他語言→英語添加了``reverse``標誌反轉\n"
   ]
  },
  {
   "cell_type": "code",
   "execution_count": 209,
   "metadata": {
    "collapsed": true
   },
   "outputs": [],
   "source": [
    "def readLangs(lang1, lang2, reverse=False): #lang代表某個語言\n",
    "    print(\"Reading lines...\")\n",
    "\n",
    "    #已經於Name Classification說明過\n",
    "    lines = open('data/%s-%s.txt' % (lang1, lang2), encoding='utf-8').\\\n",
    "        read().strip().split('\\n')\n",
    "\n",
    "    # Split every line into pairs and normalize\n",
    "    pairs = [[normalizeString(s) for s in l.split('\\t')] for l in lines]\n",
    "\n",
    "    # Reverse pairs, make Lang instances #將左邊與右邊資料互轉\n",
    "    if reverse:\n",
    "        pairs = [list(reversed(p)) for p in pairs]\n",
    "        input_lang = Lang(lang2)\n",
    "        output_lang = Lang(lang1)\n",
    "    else:\n",
    "        input_lang = Lang(lang1)\n",
    "        output_lang = Lang(lang2)\n",
    "\n",
    "    return input_lang, output_lang, pairs"
   ]
  },
  {
   "cell_type": "code",
   "execution_count": 48,
   "metadata": {
    "collapsed": true
   },
   "outputs": [],
   "source": [
    "#lines = open('data/%s-%s.txt' % (\"eng\", \"fra\"), encoding='utf-8').read().strip().split('\\n')"
   ]
  },
  {
   "cell_type": "code",
   "execution_count": 49,
   "metadata": {
    "collapsed": true
   },
   "outputs": [],
   "source": [
    "pairs = [[normalizeString(s) for s in l.split('\\t')] for l in lines]"
   ]
  },
  {
   "cell_type": "code",
   "execution_count": 25,
   "metadata": {},
   "outputs": [
    {
     "data": {
      "text/plain": [
       "'go.\\tva !'"
      ]
     },
     "execution_count": 25,
     "metadata": {},
     "output_type": "execute_result"
    }
   ],
   "source": [
    "#字元處理\n",
    "unicodeToAscii(lines[0].lower().strip())"
   ]
  },
  {
   "cell_type": "code",
   "execution_count": 29,
   "metadata": {
    "collapsed": true
   },
   "outputs": [],
   "source": [
    "s = unicodeToAscii(lines[0].lower().strip())"
   ]
  },
  {
   "cell_type": "code",
   "execution_count": 30,
   "metadata": {},
   "outputs": [
    {
     "data": {
      "text/plain": [
       "'go.\\tva !'"
      ]
     },
     "execution_count": 30,
     "metadata": {},
     "output_type": "execute_result"
    }
   ],
   "source": [
    "s"
   ]
  },
  {
   "cell_type": "code",
   "execution_count": 28,
   "metadata": {},
   "outputs": [
    {
     "data": {
      "text/plain": [
       "'go .\\tva  !'"
      ]
     },
     "execution_count": 28,
     "metadata": {},
     "output_type": "execute_result"
    }
   ],
   "source": [
    "re.sub(r\"([.!?])\", r\" \\1\", s)"
   ]
  },
  {
   "cell_type": "code",
   "execution_count": 31,
   "metadata": {},
   "outputs": [
    {
     "data": {
      "text/plain": [
       "'go. va !'"
      ]
     },
     "execution_count": 31,
     "metadata": {},
     "output_type": "execute_result"
    }
   ],
   "source": [
    "re.sub(r\"[^a-zA-Z.!?]+\", r\" \", s)"
   ]
  },
  {
   "cell_type": "code",
   "execution_count": null,
   "metadata": {
    "collapsed": true
   },
   "outputs": [],
   "source": []
  },
  {
   "cell_type": "code",
   "execution_count": 33,
   "metadata": {
    "collapsed": true
   },
   "outputs": [],
   "source": [
    "#由於範例句子很多，我們想訓練快一點，因此將數據修剪較短的句子，也就是將一句話的單詞長度為10(包括標點符號)\n",
    "#尤其像是有eng_prefixes得相關的，“我是”或“他是”等。"
   ]
  },
  {
   "cell_type": "code",
   "execution_count": 210,
   "metadata": {
    "collapsed": true
   },
   "outputs": [],
   "source": [
    "#做中文這一段就考量是否要加快速度\n",
    "MAX_LENGTH = 10\n",
    "\n",
    "eng_prefixes = (\n",
    "    \"i am \", \"i m \",\n",
    "    \"he is\", \"he s \",\n",
    "    \"she is\", \"she s\",\n",
    "    \"you are\", \"you re \",\n",
    "    \"we are\", \"we re \",\n",
    "    \"they are\", \"they re \"\n",
    ")\n",
    "\n",
    "\n",
    "def filterPair(p): #其中p的0與1代表 eng與fra的翻譯 #透過空白分開，確認該句是否長度小於MAX_LENGTH\n",
    "    return len(p[0].split(' ')) < MAX_LENGTH and \\\n",
    "        len(p[1].split(' ')) < MAX_LENGTH\n",
    "    \n",
    "#def filterPair(p): #其中p的0與1代表 eng與fra的翻譯 #透過空白分開，確認該句是否長度小於MAX_LENGTH\n",
    "#    return len(p[0].split(' ')) < MAX_LENGTH and \\\n",
    "#        len(p[1].split(' ')) < MAX_LENGTH and \\\n",
    "#        p[1].startswith(eng_prefixes)\n",
    "        \n",
    "        \n",
    "\n",
    "def filterPairs(pairs):\n",
    "    return [pair for pair in pairs if filterPair(pair)]"
   ]
  },
  {
   "cell_type": "code",
   "execution_count": 122,
   "metadata": {},
   "outputs": [
    {
     "data": {
      "text/plain": [
       "'go .'"
      ]
     },
     "execution_count": 122,
     "metadata": {},
     "output_type": "execute_result"
    }
   ],
   "source": [
    "pairs[0][0]"
   ]
  },
  {
   "cell_type": "code",
   "execution_count": 121,
   "metadata": {},
   "outputs": [
    {
     "data": {
      "text/plain": [
       "['va', '!']"
      ]
     },
     "execution_count": 121,
     "metadata": {},
     "output_type": "execute_result"
    }
   ],
   "source": [
    "#input_lang, output_lang, pairs = readLangs(\"eng\", \"fra\", reverse=False)\n",
    "pairs[0][1].split(' ')"
   ]
  },
  {
   "cell_type": "code",
   "execution_count": 159,
   "metadata": {},
   "outputs": [
    {
     "data": {
      "text/plain": [
       "True"
      ]
     },
     "execution_count": 159,
     "metadata": {},
     "output_type": "execute_result"
    }
   ],
   "source": [
    "len(pairs[64137][1].split(' '))< MAX_LENGTH and \\\n",
    "len(pairs[64137][1].split(' '))< MAX_LENGTH"
   ]
  },
  {
   "cell_type": "code",
   "execution_count": null,
   "metadata": {
    "collapsed": true
   },
   "outputs": [],
   "source": []
  },
  {
   "cell_type": "code",
   "execution_count": null,
   "metadata": {
    "collapsed": true
   },
   "outputs": [],
   "source": []
  },
  {
   "cell_type": "code",
   "execution_count": null,
   "metadata": {
    "collapsed": true
   },
   "outputs": [],
   "source": []
  },
  {
   "cell_type": "code",
   "execution_count": null,
   "metadata": {
    "collapsed": true
   },
   "outputs": [],
   "source": []
  },
  {
   "cell_type": "code",
   "execution_count": 211,
   "metadata": {
    "collapsed": true
   },
   "outputs": [],
   "source": [
    "SOS_token = 0 #開始\n",
    "EOS_token = 1 #結束\n",
    "\n",
    "\n",
    "class Lang: #做一個Class為Lang，方便等下進行整合\n",
    "    def __init__(self, name):\n",
    "        self.name = name\n",
    "        self.word2index = {}\n",
    "        self.word2count = {}\n",
    "        self.index2word = {0: \"SOS\", 1: \"EOS\"}\n",
    "        self.n_words = 2  # Count SOS and EOS\n",
    "\n",
    "    def addSentence(self, sentence):\n",
    "        for word in sentence.split(' '):\n",
    "            self.addWord(word)\n",
    "\n",
    "    def addWord(self, word):\n",
    "        if word not in self.word2index:\n",
    "            self.word2index[word] = self.n_words\n",
    "            self.word2count[word] = 1\n",
    "            self.index2word[self.n_words] = word\n",
    "            self.n_words += 1\n",
    "        else:\n",
    "            self.word2count[word] += 1"
   ]
  },
  {
   "cell_type": "code",
   "execution_count": 82,
   "metadata": {
    "collapsed": true
   },
   "outputs": [],
   "source": [
    "#準備數據的完整過程是：\n",
    "\n",
    "# - 讀取文本文件並拆分成行，將行拆分成對\n",
    "# - 標準化文本，按長度和內容過濾\n",
    "# - 從成對的句子中製作單詞列表"
   ]
  },
  {
   "cell_type": "code",
   "execution_count": 212,
   "metadata": {},
   "outputs": [
    {
     "name": "stdout",
     "output_type": "stream",
     "text": [
      "Reading lines...\n",
      "Read 135842 sentence pairs\n",
      "Trimmed to 95170 sentence pairs\n",
      "Counting words...\n",
      "Counted words:\n",
      "fra 16813\n",
      "eng 10025\n",
      "['quelle peut etre la signification de ceci ?', 'what can be the meaning of this ?']\n"
     ]
    }
   ],
   "source": [
    "def prepareData(lang1, lang2, reverse=False):\n",
    "    input_lang, output_lang, pairs = readLangs(lang1, lang2, reverse)\n",
    "    print(\"Read %s sentence pairs\" % len(pairs))\n",
    "    pairs = filterPairs(pairs) #過濾較長的句子\n",
    "    print(\"Trimmed to %s sentence pairs\" % len(pairs)) #顯示修剪的句子\n",
    "    print(\"Counting words...\")\n",
    "    for pair in pairs: \n",
    "        input_lang.addSentence(pair[0]) #每一個組句子印出取得，同時塞到word2index\n",
    "        output_lang.addSentence(pair[1])#每一個組句子印出取得，同時塞到word2index\n",
    "    print(\"Counted words:\")\n",
    "    print(input_lang.name, input_lang.n_words)\n",
    "    print(output_lang.name, output_lang.n_words)\n",
    "    return input_lang, output_lang, pairs\n",
    "\n",
    "\n",
    "input_lang, output_lang, pairs = prepareData('eng', 'fra', True)\n",
    "print(random.choice(pairs))\n"
   ]
  },
  {
   "cell_type": "code",
   "execution_count": 84,
   "metadata": {},
   "outputs": [
    {
     "name": "stdout",
     "output_type": "stream",
     "text": [
      "['we eat more processed food than natural food .', 'nous mangeons davantage de nourriture industrielle que de naturelle .']\n"
     ]
    }
   ],
   "source": [
    "print(random.choice(pairs))"
   ]
  },
  {
   "cell_type": "code",
   "execution_count": 163,
   "metadata": {
    "collapsed": true
   },
   "outputs": [],
   "source": [
    "input_lang.addSentence(pairs[0][0])"
   ]
  },
  {
   "cell_type": "code",
   "execution_count": 165,
   "metadata": {},
   "outputs": [
    {
     "data": {
      "text/plain": [
       "<bound method Lang.addSentence of <__main__.Lang object at 0x112c903c8>>"
      ]
     },
     "execution_count": 165,
     "metadata": {},
     "output_type": "execute_result"
    }
   ],
   "source": [
    "for word in sentence.split(' '):\n",
    "    self.addWord(word)"
   ]
  },
  {
   "cell_type": "code",
   "execution_count": 191,
   "metadata": {},
   "outputs": [
    {
     "name": "stdout",
     "output_type": "stream",
     "text": [
      "va\n",
      "!\n"
     ]
    }
   ],
   "source": [
    "for word in pairs[0][0].split(' '):\n",
    "    print (word)"
   ]
  },
  {
   "cell_type": "code",
   "execution_count": null,
   "metadata": {
    "collapsed": true
   },
   "outputs": [],
   "source": []
  },
  {
   "cell_type": "code",
   "execution_count": null,
   "metadata": {
    "collapsed": true
   },
   "outputs": [],
   "source": []
  },
  {
   "cell_type": "code",
   "execution_count": null,
   "metadata": {
    "collapsed": true
   },
   "outputs": [],
   "source": []
  },
  {
   "cell_type": "code",
   "execution_count": null,
   "metadata": {
    "collapsed": true
   },
   "outputs": [],
   "source": []
  },
  {
   "cell_type": "markdown",
   "metadata": {},
   "source": [
    "The Encoder\n",
    "-----------\n",
    "\n",
    "seq2seq網絡的編碼器是輸出某個值的RNN\n",
    "輸入句子中的每個單詞。對於編碼器的每個輸入字\n",
    "輸出向量和隱藏狀態，並使用隱藏狀態\n",
    "下一個輸入詞。\n",
    "\n",
    "\n",
    "\n"
   ]
  },
  {
   "cell_type": "code",
   "execution_count": 213,
   "metadata": {
    "collapsed": true
   },
   "outputs": [],
   "source": [
    "class EncoderRNN(nn.Module):\n",
    "    def __init__(self, input_size, hidden_size):\n",
    "        super(EncoderRNN, self).__init__()\n",
    "        self.hidden_size = hidden_size\n",
    "\n",
    "        self.embedding = nn.Embedding(input_size, hidden_size)\n",
    "        self.gru = nn.GRU(hidden_size, hidden_size)  #GRU效能比LSTM更好，GRU只剩下Update Gate\n",
    "\n",
    "    def forward(self, input, hidden): #主要是以這個為網路跑的主線\n",
    "        embedded = self.embedding(input).view(1, 1, -1)\n",
    "        output = embedded\n",
    "        output, hidden = self.gru(output, hidden)\n",
    "        return output, hidden\n",
    "\n",
    "    def initHidden(self): #初始化隱藏層\n",
    "        return torch.zeros(1, 1, self.hidden_size, device=device)"
   ]
  },
  {
   "cell_type": "code",
   "execution_count": 177,
   "metadata": {
    "collapsed": true
   },
   "outputs": [],
   "source": [
    "##一個簡單的查找表，用於存儲固定字典和大小的嵌入。\n",
    "#此模塊通常用於存儲單詞嵌入並使用索引檢索它們。模塊的輸入是索引列表，輸出是相應的字嵌入。"
   ]
  },
  {
   "cell_type": "code",
   "execution_count": 87,
   "metadata": {},
   "outputs": [
    {
     "data": {
      "text/plain": [
       "tensor([[[-0.8184, -1.1779, -0.0330],\n",
       "         [-0.1729,  1.6461, -1.0431],\n",
       "         [ 2.1603, -0.9625,  0.6453],\n",
       "         [-0.0323,  0.4391, -1.8454]],\n",
       "\n",
       "        [[ 2.1603, -0.9625,  0.6453],\n",
       "         [-1.5644,  0.5266,  0.7882],\n",
       "         [-0.1729,  1.6461, -1.0431],\n",
       "         [ 0.7452,  1.1130,  1.5820]]])"
      ]
     },
     "execution_count": 87,
     "metadata": {},
     "output_type": "execute_result"
    }
   ],
   "source": [
    "# an Embedding module containing 10 tensors of size 3\n",
    "embedding = nn.Embedding(10, 3)\n",
    "# a batch of 2 samples of 4 indices each\n",
    "input = torch.LongTensor([[1,2,4,5],[4,3,2,9]])\n",
    "embedding(input)"
   ]
  },
  {
   "cell_type": "code",
   "execution_count": 86,
   "metadata": {},
   "outputs": [
    {
     "data": {
      "text/plain": [
       "tensor([[[ 0.0000,  0.0000,  0.0000],\n",
       "         [ 0.9413, -0.3064,  0.1697],\n",
       "         [ 0.0000,  0.0000,  0.0000],\n",
       "         [ 0.2806,  0.1690,  0.9520]]])"
      ]
     },
     "execution_count": 86,
     "metadata": {},
     "output_type": "execute_result"
    }
   ],
   "source": [
    "# example with padding_idx\n",
    "embedding = nn.Embedding(10, 3, padding_idx=0)\n",
    "input = torch.LongTensor([[0,2,0,5]])\n",
    "embedding(input)"
   ]
  },
  {
   "cell_type": "code",
   "execution_count": null,
   "metadata": {
    "collapsed": true
   },
   "outputs": [],
   "source": []
  },
  {
   "cell_type": "code",
   "execution_count": null,
   "metadata": {
    "collapsed": true
   },
   "outputs": [],
   "source": []
  },
  {
   "cell_type": "markdown",
   "metadata": {},
   "source": [
    "The Decoder\n",
    "-----------\n",
    "\n",
    "解碼器是另一個獲取編碼器輸出矢量和的RNN輸出一系列單詞以創建翻譯。\n"
   ]
  },
  {
   "cell_type": "markdown",
   "metadata": {},
   "source": [
    "Simple Decoder\n",
    "^^^^^^^^^^^^^^\n",
    "\n",
    "在最簡單的seq2seq解碼器中，我們只使用編碼器的最後一個輸出。\n",
    "最後一個輸出有時在編碼時稱為*上下文向量*\n",
    "整個序列的上下文。該上下文向量用作\n",
    "解碼器的初始隱藏狀態。\n",
    "\n",
    "在解碼的每個步驟中，給予解碼器輸入令牌和\n",
    "隱藏的狀態。初始輸入標記是字符串開頭``<SOS>``\n",
    "令牌，第一個隱藏狀態是上下文向量（編碼器的\n",
    "最後隱藏的狀態）。\n",
    "\n",
    "\n",
    "\n",
    "\n"
   ]
  },
  {
   "cell_type": "code",
   "execution_count": 214,
   "metadata": {
    "collapsed": true
   },
   "outputs": [],
   "source": [
    "class DecoderRNN(nn.Module):\n",
    "    def __init__(self, hidden_size, output_size):\n",
    "        super(DecoderRNN, self).__init__()\n",
    "        self.hidden_size = hidden_size\n",
    "\n",
    "        self.embedding = nn.Embedding(output_size, hidden_size)\n",
    "        self.gru = nn.GRU(hidden_size, hidden_size)\n",
    "        self.out = nn.Linear(hidden_size, output_size) #線性轉換\n",
    "        self.softmax = nn.LogSoftmax(dim=1) #透過logSoftmax做歸一化，加上log的softmax，logsoftmax比較有效率\n",
    "\n",
    "    def forward(self, input, hidden): #主要是以為網路跑的主線\n",
    "        output = self.embedding(input).view(1, 1, -1)\n",
    "        output = F.relu(output) #乘以Relu\n",
    "        output, hidden = self.gru(output, hidden)\n",
    "        output = self.softmax(self.out(output[0]))\n",
    "        return output, hidden\n",
    "\n",
    "    def initHidden(self):\n",
    "        return torch.zeros(1, 1, self.hidden_size, device=device)"
   ]
  },
  {
   "cell_type": "markdown",
   "metadata": {},
   "source": [
    "我鼓勵你訓練和觀察這個模型的結果，但是\n",
    "節省時間，我們將直接尋找黃金並引入\n",
    "注意機制。\n",
    "\n"
   ]
  },
  {
   "cell_type": "markdown",
   "metadata": {},
   "source": [
    "Attention Decoder\n",
    "^^^^^^^^^^^^^^^^^\n",
    "\n",
    "如果僅在編碼器和解碼器之間傳遞上下文向量，\n",
    "單個向量承擔編碼整個句子的負擔。\n",
    "\n",
    "注意允許解碼器網絡“聚焦”在不同的部分\n",
    "解碼器自身輸出的每一步的編碼器輸出。第一\n",
    "我們計算一組*注意力量*。這些將乘以\n",
    "編碼器輸出向量以創建加權組合。結果\n",
    "（在代碼中稱為``attn_applied``）應該包含有關的信息\n",
    "那個輸入序列的特定部分，從而有助於解碼器\n",
    "選擇正確的輸出詞。\n",
    "\n",
    "\n",
    "^^^^^^^^^^^^^^^^^\n",
    "\n",
    "使用另一個前饋來計算注意力\n",
    "layer``attn``，使用解碼器的輸入和隱藏狀態作為輸入。\n",
    "因為訓練數據中有各種大小的句子，所以\n",
    "實際創建和訓練這一層我們必須選擇一個最大值\n",
    "它可以應用的句子長度（輸入長度，編碼器輸出）\n",
    "至。最大長度的句子將使用所有註意力量，\n",
    "而較短的句子只會使用前幾個。\n",
    "\n",
    "\n"
   ]
  },
  {
   "cell_type": "code",
   "execution_count": 215,
   "metadata": {
    "collapsed": true
   },
   "outputs": [],
   "source": [
    "class AttnDecoderRNN(nn.Module):\n",
    "    def __init__(self, hidden_size, output_size, dropout_p=0.1, max_length=MAX_LENGTH):\n",
    "        super(AttnDecoderRNN, self).__init__()\n",
    "        self.hidden_size = hidden_size\n",
    "        self.output_size = output_size\n",
    "        self.dropout_p = dropout_p\n",
    "        self.max_length = max_length\n",
    "\n",
    "        self.embedding = nn.Embedding(self.output_size, self.hidden_size)\n",
    "        self.attn = nn.Linear(self.hidden_size * 2, self.max_length)\n",
    "        self.attn_combine = nn.Linear(self.hidden_size * 2, self.hidden_size)\n",
    "        self.dropout = nn.Dropout(self.dropout_p)\n",
    "        self.gru = nn.GRU(self.hidden_size, self.hidden_size)\n",
    "        self.out = nn.Linear(self.hidden_size, self.output_size)\n",
    "\n",
    "    def forward(self, input, hidden, encoder_outputs):\n",
    "        embedded = self.embedding(input).view(1, 1, -1)\n",
    "        embedded = self.dropout(embedded)\n",
    "\n",
    "        attn_weights = F.softmax(\n",
    "            self.attn(torch.cat((embedded[0], hidden[0]), 1)), dim=1)\n",
    "        attn_applied = torch.bmm(attn_weights.unsqueeze(0),\n",
    "                                 encoder_outputs.unsqueeze(0)) #透過unsqueeze整理一下矩陣\n",
    "        #bmm = batch matrix multiply 矩陣乘法\n",
    "\n",
    "        output = torch.cat((embedded[0], attn_applied[0]), 1)\n",
    "        output = self.attn_combine(output).unsqueeze(0)\n",
    "\n",
    "        output = F.relu(output)\n",
    "        output, hidden = self.gru(output, hidden)\n",
    "\n",
    "        output = F.log_softmax(self.out(output[0]), dim=1)\n",
    "        return output, hidden, attn_weights\n",
    "\n",
    "    def initHidden(self):\n",
    "        return torch.zeros(1, 1, self.hidden_size, device=device)"
   ]
  },
  {
   "cell_type": "code",
   "execution_count": null,
   "metadata": {
    "collapsed": true
   },
   "outputs": [],
   "source": [
    "#Dropout防止Co-adaptation問題\n",
    "#特征Co-adaptation指的是某个特征只有在另个特征出现时才有用。防止過度擬合，怕同一組的神經元都一直同一組導致過度擬合\n",
    "#防止特征 Co-adaptation的方法是Dropout\n",
    "#Dropout顾名思义就是在训练模型的时候随机扔掉一部分的输入 （即随机把一部分输入变成0）\n"
   ]
  },
  {
   "cell_type": "markdown",
   "metadata": {},
   "source": [
    "<div class=\"alert alert-info\"><h4>Note</h4><p>There are other forms of attention that work around the length\n",
    "  limitation by using a relative position approach. Read about \"local\n",
    "  attention\" in `Effective Approaches to Attention-based Neural Machine\n",
    "  Translation <https://arxiv.org/abs/1508.04025>`__.</p></div>\n",
    "\n",
    "Training\n",
    "========\n",
    "\n",
    "Preparing Training Data\n",
    "-----------------------\n",
    "\n",
    "為了訓練，對於每一對我們將需要一個輸入張量（指數）\n",
    "輸入句子中的單詞）和目標張量（單詞的索引）\n",
    "目標句子）。在創建這些向量時，我們將附加\n",
    "兩個序列的EOS令牌。\n",
    "\n"
   ]
  },
  {
   "cell_type": "code",
   "execution_count": 216,
   "metadata": {
    "collapsed": true
   },
   "outputs": [],
   "source": [
    "def indexesFromSentence(lang, sentence):\n",
    "    return [lang.word2index[word] for word in sentence.split(' ')]\n",
    "\n",
    "\n",
    "def tensorFromSentence(lang, sentence):\n",
    "    indexes = indexesFromSentence(lang, sentence)\n",
    "    indexes.append(EOS_token) #對序列加上結束的標記\n",
    "    return torch.tensor(indexes, dtype=torch.long, device=device).view(-1, 1)\n",
    "\n",
    "\n",
    "def tensorsFromPair(pair):\n",
    "    input_tensor = tensorFromSentence(input_lang, pair[0])\n",
    "    target_tensor = tensorFromSentence(output_lang, pair[1])\n",
    "    return (input_tensor, target_tensor) #回傳輸入張量 與 目標張量"
   ]
  },
  {
   "cell_type": "markdown",
   "metadata": {},
   "source": [
    "Training the Model\n",
    "------------------\n",
    "\n",
    "為了訓練我們通過編碼器運行輸入句子，並保持跟踪\n",
    "每個輸出和最新的隱藏狀態。然後給出解碼器\n",
    "``<SOS>``標記作為它的第一個輸入，以及最後一個隱藏狀態\n",
    "編碼器作為其第一個隱藏狀態。\n",
    "\n",
    "“教師強迫(teacher_forcing)”是使用真實目標輸出的概念\n",
    "每個下一個輸入，而不是使用解碼器的猜測作為下一個輸入。\n",
    "使用教師強制使其收斂得更快，但是當受過訓練時\n",
    "網絡被利用，它可能表現出來\n",
    "不穩定<http://minds.jacobs-university.de/sites/default/files/uploads/papers/ESNTutorialRev.pdf>`__。\n",
    "\n",
    "您可以觀察讀取的教師強製網絡的輸出\n",
    "連貫的語法，但遠離正確的翻譯 - \n",
    "直覺上它已經學會了表示輸出語法並且可以“選擇”\n",
    "一旦老師告訴它前幾個字，它就是“意思”\n",
    "沒有正確地學習如何從翻譯中創建句子\n",
    "首先。\n",
    "\n",
    "由於PyTorch的autograd給我們的自由，我們可以隨機\n",
    "選擇使用教師強製或不使用簡單的if語句。轉\n",
    "``teacher_forcing_ratio``最多可以使用它。\n",
    "\n",
    "\n"
   ]
  },
  {
   "cell_type": "code",
   "execution_count": 217,
   "metadata": {
    "collapsed": true
   },
   "outputs": [],
   "source": [
    "teacher_forcing_ratio = 0.5\n",
    "\n",
    "\n",
    "def train(input_tensor, target_tensor, encoder, decoder, encoder_optimizer, decoder_optimizer, criterion, max_length=MAX_LENGTH):\n",
    "    encoder_hidden = encoder.initHidden()\n",
    "\n",
    "    encoder_optimizer.zero_grad() #初始化\n",
    "    decoder_optimizer.zero_grad() #初始化\n",
    "\n",
    "    input_length = input_tensor.size(0) \n",
    "    target_length = target_tensor.size(0)\n",
    "\n",
    "    encoder_outputs = torch.zeros(max_length, encoder.hidden_size, device=device)\n",
    "\n",
    "    loss = 0 \n",
    "\n",
    "    for ei in range(input_length):\n",
    "        encoder_output, encoder_hidden = encoder(\n",
    "            input_tensor[ei], encoder_hidden)\n",
    "        encoder_outputs[ei] = encoder_output[0, 0]\n",
    "\n",
    "    decoder_input = torch.tensor([[SOS_token]], device=device)\n",
    "\n",
    "    decoder_hidden = encoder_hidden\n",
    "\n",
    "    use_teacher_forcing = True if random.random() < teacher_forcing_ratio else False\n",
    "\n",
    "    if use_teacher_forcing: #透過真實的值，作為下一次的輸入\n",
    "        # Teacher forcing: Feed the target as the next input\n",
    "        for di in range(target_length):\n",
    "            decoder_output, decoder_hidden, decoder_attention = decoder(\n",
    "                decoder_input, decoder_hidden, encoder_outputs)\n",
    "            loss += criterion(decoder_output, target_tensor[di])\n",
    "            decoder_input = target_tensor[di]  # Teacher forcing\n",
    "\n",
    "    else:\n",
    "        # Without teacher forcing: use its own predictions as the next input\n",
    "        for di in range(target_length):\n",
    "            decoder_output, decoder_hidden, decoder_attention = decoder(\n",
    "                decoder_input, decoder_hidden, encoder_outputs)\n",
    "            topv, topi = decoder_output.topk(1)\n",
    "            decoder_input = topi.squeeze().detach()  # detach from history as input \n",
    "            #detach返回一個Variable結果\n",
    "\n",
    "            loss += criterion(decoder_output, target_tensor[di])\n",
    "            if decoder_input.item() == EOS_token:\n",
    "                break\n",
    "\n",
    "    loss.backward()\n",
    "\n",
    "    encoder_optimizer.step()\n",
    "    decoder_optimizer.step()\n",
    "\n",
    "    return loss.item() / target_length"
   ]
  },
  {
   "cell_type": "markdown",
   "metadata": {},
   "source": [
    "這是打印時間和估計時間的輔助函數\n",
    "給出當前時間和進度％。\n",
    "\n"
   ]
  },
  {
   "cell_type": "code",
   "execution_count": 218,
   "metadata": {
    "collapsed": true
   },
   "outputs": [],
   "source": [
    "import time\n",
    "import math\n",
    "\n",
    "\n",
    "def asMinutes(s):\n",
    "    m = math.floor(s / 60)\n",
    "    s -= m * 60\n",
    "    return '%dm %ds' % (m, s)\n",
    "\n",
    "\n",
    "def timeSince(since, percent):\n",
    "    now = time.time()\n",
    "    s = now - since\n",
    "    es = s / (percent)\n",
    "    rs = es - s\n",
    "    return '%s (- %s)' % (asMinutes(s), asMinutes(rs))"
   ]
  },
  {
   "cell_type": "markdown",
   "metadata": {},
   "source": [
    "\n",
    "整個培訓過程如下：\n",
    "\n",
    " - 啟動計時器\n",
    " - 初始化優化程序和標準\n",
    " - 創建一組訓練對\n",
    " - 啟動空損陣列進行繪圖\n",
    "\n",
    "然後我們多次調用``train``並偶爾打印進度（％）\n",
    "例子，到目前為止的時間，估計的時間）和平均損失。"
   ]
  },
  {
   "cell_type": "code",
   "execution_count": 230,
   "metadata": {
    "collapsed": true
   },
   "outputs": [],
   "source": [
    "#def trainIters(encoder, decoder, n_iters, print_every=1000, plot_every=100, learning_rate=0.01):\n",
    " #   start = time.time()\n",
    "    #plot_losses = []\n",
    " #   print_loss_total = 0  # Reset every print_every\n",
    "    #plot_loss_total = 0  # Reset every plot_every\n",
    "\n",
    " #   encoder_optimizer = optim.SGD(encoder.parameters(), lr=learning_rate) #選用SGD做優化\n",
    " #   decoder_optimizer = optim.SGD(decoder.parameters(), lr=learning_rate)\n",
    " #   training_pairs = [tensorsFromPair(random.choice(pairs))\n",
    " #                     for i in range(n_iters)] #隨機產生訓練資料組合\n",
    " #   criterion = nn.NLLLoss() #用NULLoss做評價\n",
    " \n",
    "  #  for iter in range(1, n_iters):\n",
    "  #      training_pair = training_pairs[iter]\n",
    "  #      input_tensor = training_pair[0] #左邊第一個句子\n",
    "  #      target_tensor = training_pair[1] #右邊第一個句子\n",
    "\n",
    "  #      loss = train(input_tensor, target_tensor, encoder,\n",
    "  #                   decoder, encoder_optimizer, decoder_optimizer, criterion)\n",
    "  #      print_loss_total += loss\n",
    "        #plot_loss_total += loss\n",
    "\n",
    "  #      if iter % print_every == 0:\n",
    "  #          print_loss_avg = print_loss_total / print_every\n",
    "  #          print_loss_total = 0\n",
    "  #          print('%s (%d %d%%) %.4f' % (timeSince(start, iter / n_iters),\n",
    "                                         iter, iter / n_iters * 100, print_loss_avg))\n",
    "\n",
    "   #     if iter % plot_every == 0:\n",
    "   #         plot_loss_avg = plot_loss_total / plot_every\n",
    "   #         plot_losses.append(plot_loss_avg)\n",
    "   #         plot_loss_total = 0\n",
    "\n",
    "    #showPlot(plot_losses)"
   ]
  },
  {
   "cell_type": "code",
   "execution_count": 237,
   "metadata": {
    "collapsed": true
   },
   "outputs": [],
   "source": [
    "def trainIters(encoder, decoder, n_iters, print_every=1000, plot_every=100, learning_rate=0.01):\n",
    "    start = time.time()\n",
    "    print_loss_total = 0  # Reset every print_every\n",
    "\n",
    "    encoder_optimizer = optim.SGD(encoder.parameters(), lr=learning_rate) #選用SGD做優化\n",
    "    decoder_optimizer = optim.SGD(decoder.parameters(), lr=learning_rate)\n",
    "    training_pairs = [tensorsFromPair(random.choice(pairs))\n",
    "                      for i in range(n_iters)] #隨機產生訓練資料組合\n",
    "    criterion = nn.NLLLoss() #用NULLoss做評價\n",
    " \n",
    "    for iter in range(1, n_iters):\n",
    "        training_pair = training_pairs[iter]\n",
    "        input_tensor = training_pair[0] #左邊第一個句子\n",
    "        target_tensor = training_pair[1] #右邊第一個句子\n",
    "\n",
    "        loss = train(input_tensor, target_tensor, encoder,\n",
    "                     decoder, encoder_optimizer, decoder_optimizer, criterion)\n",
    "        print_loss_total += loss\n",
    "\n",
    "        if iter % print_every == 0: #印出每一次的迭代過程\n",
    "            print_loss_avg = print_loss_total / print_every\n",
    "            print_loss_total = 0\n",
    "            print('%s (%d %d%%) %.4f' % (timeSince(start, iter / n_iters),\n",
    "                                         iter, iter / n_iters * 100, print_loss_avg))"
   ]
  },
  {
   "cell_type": "markdown",
   "metadata": {},
   "source": [
    "Plotting results\n",
    "----------------\n",
    "\n",
    "使用matplotlib繪製繪圖，使用損失值數組\n",
    "訓練時保存了``plot_losses``。\n",
    "\n",
    "\n"
   ]
  },
  {
   "cell_type": "code",
   "execution_count": 221,
   "metadata": {
    "collapsed": true
   },
   "outputs": [],
   "source": [
    "#import matplotlib.pyplot as plt\n",
    "#plt.switch_backend('agg')\n",
    "#import matplotlib.ticker as ticker\n",
    "#import numpy as np\n",
    "\n",
    "\n",
    "#def showPlot(points):\n",
    "#    plt.figure()\n",
    "#    fig, ax = plt.subplots()\n",
    "    # this locator puts ticks at regular intervals\n",
    "#    loc = ticker.MultipleLocator(base=0.2)\n",
    "#    ax.yaxis.set_major_locator(loc)\n",
    "#    plt.plot(points)"
   ]
  },
  {
   "cell_type": "markdown",
   "metadata": {},
   "source": [
    "Evaluation （預測）\n",
    "==========\n",
    "\n",
    "評估與培訓大致相同，但沒有目標\n",
    "我們只需將解碼器的預測反饋給每一步。\n",
    "每當它預測一個單詞時，我們將它添加到輸出字符串，如果它\n",
    "預測我們停在那裡的EOS令牌。我們還存儲了解碼器\n",
    "注意輸出以便稍後顯示。\n",
    "\n",
    "\n"
   ]
  },
  {
   "cell_type": "code",
   "execution_count": 238,
   "metadata": {
    "collapsed": true
   },
   "outputs": [],
   "source": [
    "#evaluate與trainIters大致相同，插在於預測值的反饋\n",
    "def evaluate(encoder, decoder, sentence, max_length=MAX_LENGTH):\n",
    "    with torch.no_grad(): #no_grad上下文切斷\n",
    "        input_tensor = tensorFromSentence(input_lang, sentence) \n",
    "        input_length = input_tensor.size()[0]\n",
    "        encoder_hidden = encoder.initHidden() #初始化隱藏層\n",
    "\n",
    "        encoder_outputs = torch.zeros(max_length, encoder.hidden_size, device=device) #建立為空的矩陣\n",
    "\n",
    "        for ei in range(input_length):\n",
    "            encoder_output, encoder_hidden = encoder(input_tensor[ei],\n",
    "                                                     encoder_hidden)\n",
    "            encoder_outputs[ei] += encoder_output[0, 0]\n",
    "\n",
    "        decoder_input = torch.tensor([[SOS_token]], device=device)  # SOS\n",
    "\n",
    "        decoder_hidden = encoder_hidden\n",
    "\n",
    "        decoded_words = []\n",
    "        decoder_attentions = torch.zeros(max_length, max_length) #用最大的長度作為decoder_attentions的張量\n",
    "\n",
    "        for di in range(max_length):\n",
    "            decoder_output, decoder_hidden, decoder_attention = decoder(\n",
    "                decoder_input, decoder_hidden, encoder_outputs)\n",
    "            decoder_attentions[di] = decoder_attention.data\n",
    "            topv, topi = decoder_output.data.topk(1) #一樣挑選有價值的index出來\n",
    "            if topi.item() == EOS_token:\n",
    "                decoded_words.append('<EOS>')\n",
    "                break\n",
    "            else:\n",
    "                decoded_words.append(output_lang.index2word[topi.item()])\n",
    "\n",
    "            decoder_input = topi.squeeze().detach()\n",
    "\n",
    "        return decoded_words, decoder_attentions[:di + 1]"
   ]
  },
  {
   "cell_type": "markdown",
   "metadata": {},
   "source": [
    "\n",
    "我們可以從訓練集中評估隨機句子並打印出來\n",
    "輸入，目標​​和輸出做出一些主觀質量判斷："
   ]
  },
  {
   "cell_type": "code",
   "execution_count": 239,
   "metadata": {
    "collapsed": true
   },
   "outputs": [],
   "source": [
    "def evaluateRandomly(encoder, decoder, n=10):\n",
    "    for i in range(n):\n",
    "        pair = random.choice(pairs)\n",
    "        print('>', pair[0])\n",
    "        print('=', pair[1])\n",
    "        output_words, attentions = evaluate(encoder, decoder, pair[0]) #預測結果\n",
    "        output_sentence = ' '.join(output_words)\n",
    "        print('<', output_sentence)\n",
    "        print('')"
   ]
  },
  {
   "cell_type": "markdown",
   "metadata": {},
   "source": [
    "Training and Evaluating\n",
    "=======================\n",
    "\n",
    "有了所有這些輔助功能（它看起來像額外的工作，但是\n",
    "它可以更容易地進行多個實驗）我們實際上可以\n",
    "初始化網絡並開始培訓。\n",
    "\n",
    "請記住輸入句子被嚴格過濾。對於這個小\n",
    "數據集我們可以使用256個隱藏節點和一個相對較小的網絡\n",
    "單個GRU層。在MacBook CPU上大約40分鐘後，我們會得到一些\n",
    "合理的結果。\n",
    "\n",
    ".. 注意：：\n",
    "   如果你運行這個筆記本，你可以訓練，打斷內核，\n",
    "   評估，並繼續培訓。註釋掉那裡的線條\n",
    "   編碼器和解碼器被初始化並再次運行``trainIters``。\n",
    "\n",
    "\n"
   ]
  },
  {
   "cell_type": "code",
   "execution_count": 240,
   "metadata": {},
   "outputs": [
    {
     "name": "stdout",
     "output_type": "stream",
     "text": [
      "0m 0s (- 0m 1s) (10 10%) 9.5960\n",
      "0m 0s (- 0m 1s) (20 20%) 9.5335\n",
      "0m 0s (- 0m 1s) (30 30%) 9.4777\n",
      "0m 0s (- 0m 0s) (40 40%) 9.4742\n",
      "0m 0s (- 0m 0s) (50 50%) 9.3710\n",
      "0m 0s (- 0m 0s) (60 60%) 9.3750\n",
      "0m 1s (- 0m 0s) (70 70%) 9.2823\n",
      "0m 1s (- 0m 0s) (80 80%) 9.3993\n",
      "0m 1s (- 0m 0s) (90 90%) 9.2941\n"
     ]
    }
   ],
   "source": [
    "hidden_size = 1 #建議使用256個隱藏層\n",
    "encoder1 = EncoderRNN(input_lang.n_words, hidden_size).to(device) #to(device)有GPU就跑\n",
    "attn_decoder1 = AttnDecoderRNN(hidden_size, output_lang.n_words, dropout_p=0.1).to(device)\n",
    "#dropout_p=0.1 轉為0的機率\n",
    "\n",
    "trainIters(encoder1, attn_decoder1, 100, print_every=10) #迭代次數75000, 顯示次數5000"
   ]
  },
  {
   "cell_type": "code",
   "execution_count": 241,
   "metadata": {},
   "outputs": [
    {
     "name": "stdout",
     "output_type": "stream",
     "text": [
      "> mon opinion est qu il a raison .\n",
      "= in my opinion he s right .\n",
      "< talks talks talks talks talks talks talks talks talks talks\n",
      "\n",
      "> il n est plus celui qu il etait .\n",
      "= he is not what he used to be .\n",
      "< talks talks talks talks talks talks talks talks talks talks\n",
      "\n",
      "> je suis fier de mon pere .\n",
      "= i m proud of my father .\n",
      "< talks talks talks talks talks talks talks talks talks talks\n",
      "\n",
      "> je peux t aider .\n",
      "= i can help you .\n",
      "< talks talks talks talks talks talks talks talks talks talks\n",
      "\n",
      "> je pense que nous sommes voisins .\n",
      "= i think we re neighbors .\n",
      "< talks talks talks talks talks talks talks talks talks talks\n",
      "\n",
      "> de la fumee noire sortit de la cheminee .\n",
      "= black smoke came out of the chimney .\n",
      "< talks talks talks talks talks talks talks talks talks talks\n",
      "\n",
      "> ces appareils photo sont fabriques au japon .\n",
      "= these cameras are made in japan .\n",
      "< talks talks talks talks talks talks talks talks talks talks\n",
      "\n",
      "> que t as offert tom pour noel ?\n",
      "= what did tom give you for christmas ?\n",
      "< talks talks talks talks talks talks talks talks talks talks\n",
      "\n",
      "> sois gentil avec ton entourage .\n",
      "= be kind to those around you .\n",
      "< talks talks talks talks talks talks talks talks talks talks\n",
      "\n",
      "> consequemment les prix ont augmente .\n",
      "= as a result prices rose .\n",
      "< talks talks talks talks talks talks talks talks talks talks\n",
      "\n"
     ]
    }
   ],
   "source": [
    "evaluateRandomly(encoder1, attn_decoder1)"
   ]
  },
  {
   "cell_type": "markdown",
   "metadata": {},
   "source": [
    "Visualizing Attention\n",
    "---------------------\n",
    "注意機制的一個有用特性是其高度可解釋性\n",
    "輸出。因為它用於加權特定的編碼器輸出\n",
    "在輸入序列中，我們可以想像查找網絡最關注的位置\n",
    "在每個時間步。\n",
    "\n",
    "您可以簡單地運行``plt.matshow（attentions）``來查看注意輸出\n",
    "顯示為矩陣，列為輸入步驟和行\n",
    "輸出步驟：\n",
    "\n",
    "\n"
   ]
  },
  {
   "cell_type": "code",
   "execution_count": 227,
   "metadata": {
    "collapsed": true
   },
   "outputs": [],
   "source": [
    "#output_words, attentions = evaluate(\n",
    "#    encoder1, attn_decoder1, \"nous en avons presque fini\")\n",
    "#plt.matshow(attentions.numpy())\n",
    "#plt.show()"
   ]
  },
  {
   "cell_type": "markdown",
   "metadata": {},
   "source": [
    "為了獲得更好的觀看體驗，我們將完成添加軸的額外工作\n",
    "和標籤："
   ]
  },
  {
   "cell_type": "code",
   "execution_count": 247,
   "metadata": {},
   "outputs": [
    {
     "name": "stdout",
     "output_type": "stream",
     "text": [
      "input = ces appareils photo sont fabriques au japon\n",
      "output = talks talks talks talks talks talks talks talks talks talks\n"
     ]
    }
   ],
   "source": [
    "#def showAttention(input_sentence, output_words, attentions):\n",
    "    #Set up figure with colorbar\n",
    "#    fig = plt.figure()\n",
    "#    ax = fig.add_subplot(111)\n",
    "#    cax = ax.matshow(attentions.numpy(), cmap='bone')\n",
    "#    fig.colorbar(cax)\n",
    "\n",
    "    # Set up axes\n",
    "#    ax.set_xticklabels([''] + input_sentence.split(' ') +\n",
    "#                     ['<EOS>'], rotation=90)\n",
    "#    ax.set_yticklabels([''] + output_words)\n",
    "\n",
    "    # Show label at every tick\n",
    "#    ax.xaxis.set_major_locator(ticker.MultipleLocator(1))\n",
    "#    ax.yaxis.set_major_locator(ticker.MultipleLocator(1))\n",
    "\n",
    "#    plt.show()\n",
    "\n",
    "\n",
    "def evaluateAndShowAttention(input_sentence):\n",
    "    output_words, attentions = evaluate(\n",
    "        encoder1, attn_decoder1, input_sentence)\n",
    "    print('input =', input_sentence)\n",
    "    print('output =', ' '.join(output_words))\n",
    "    #showAttention(input_sentence, output_words, attentions)\n",
    "\n",
    "\n",
    "evaluateAndShowAttention(\"ces appareils photo sont fabriques au japon\")\n",
    "\n",
    "#evaluateAndShowAttention(\"elle est trop petit .\")\n",
    "\n",
    "#evaluateAndShowAttention(\"je ne crains pas de mourir .\")\n",
    "\n",
    "#evaluateAndShowAttention(\"c est un jeune directeur plein de talent .\")"
   ]
  },
  {
   "cell_type": "code",
   "execution_count": null,
   "metadata": {
    "collapsed": true
   },
   "outputs": [],
   "source": []
  },
  {
   "cell_type": "code",
   "execution_count": null,
   "metadata": {
    "collapsed": true
   },
   "outputs": [],
   "source": []
  }
 ],
 "metadata": {
  "kernelspec": {
   "display_name": "Python 3",
   "language": "python",
   "name": "python3"
  },
  "language_info": {
   "codemirror_mode": {
    "name": "ipython",
    "version": 3
   },
   "file_extension": ".py",
   "mimetype": "text/x-python",
   "name": "python",
   "nbconvert_exporter": "python",
   "pygments_lexer": "ipython3",
   "version": "3.6.3"
  }
 },
 "nbformat": 4,
 "nbformat_minor": 1
}
