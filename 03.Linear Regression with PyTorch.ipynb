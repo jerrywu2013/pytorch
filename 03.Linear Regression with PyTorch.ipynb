{
 "cells": [
  {
   "cell_type": "code",
   "execution_count": 1,
   "metadata": {},
   "outputs": [
    {
     "data": {
      "image/png": "[encoded data removed]",
      "text/plain": [
       "<Figure size 432x288 with 1 Axes>"
      ]
     },
     "metadata": {},
     "output_type": "display_data"
    }
   ],
   "source": [
    "import numpy as np\n",
    "import matplotlib.pyplot as plt\n",
    "%matplotlib inline\n",
    "\n",
    "# Creates 50 random x and y numbers\n",
    "np.random.seed(1)\n",
    "n = 50\n",
    "x = np.random.randn(n)\n",
    "y = x * np.random.randn(n)\n",
    "\n",
    "# Makes the dots colorful\n",
    "colors = np.random.rand(n)\n",
    "\n",
    "# Plots best-fit line via polyfit\n",
    "plt.plot(np.unique(x), np.poly1d(np.polyfit(x, y, 1))(np.unique(x)))\n",
    "\n",
    "# Plots the random x and y data points we created\n",
    "# Interestingly, alpha makes it more aesthetically pleasing\n",
    "plt.scatter(x, y, c=colors, alpha=0.5)\n",
    "plt.show()\n"
   ]
  },
  {
   "cell_type": "code",
   "execution_count": 2,
   "metadata": {},
   "outputs": [],
   "source": [
    "#Building a Linear Regression Model with PyTorch\n",
    "#Create a list of values from 0 to 11\n",
    "x_values = [i for i in range(11)]"
   ]
  },
  {
   "cell_type": "code",
   "execution_count": 3,
   "metadata": {},
   "outputs": [
    {
     "data": {
      "text/plain": [
       "[0, 1, 2, 3, 4, 5, 6, 7, 8, 9, 10]"
      ]
     },
     "execution_count": 3,
     "metadata": {},
     "output_type": "execute_result"
    }
   ],
   "source": [
    "x_values"
   ]
  },
  {
   "cell_type": "code",
   "execution_count": 4,
   "metadata": {},
   "outputs": [
    {
     "data": {
      "text/plain": [
       "(11,)"
      ]
     },
     "execution_count": 4,
     "metadata": {},
     "output_type": "execute_result"
    }
   ],
   "source": [
    "#Convert list of numbers to numpy array\n",
    "# Convert to numpy\n",
    "x_train = np.array(x_values, dtype=np.float32)\n",
    "x_train.shape"
   ]
  },
  {
   "cell_type": "code",
   "execution_count": 5,
   "metadata": {},
   "outputs": [
    {
     "data": {
      "text/plain": [
       "(11, 1)"
      ]
     },
     "execution_count": 5,
     "metadata": {},
     "output_type": "execute_result"
    }
   ],
   "source": [
    "#Convert to 2-dimensional array\n",
    "# IMPORTANT: 2D required\n",
    "x_train = x_train.reshape(-1, 1)\n",
    "x_train.shape"
   ]
  },
  {
   "cell_type": "code",
   "execution_count": 7,
   "metadata": {},
   "outputs": [],
   "source": [
    "#Create list of y values"
   ]
  },
  {
   "cell_type": "code",
   "execution_count": 8,
   "metadata": {},
   "outputs": [],
   "source": [
    "#y=2x+1 取得x變化的y值\n",
    "y_values = [2*i + 1 for i in x_values]"
   ]
  },
  {
   "cell_type": "code",
   "execution_count": 9,
   "metadata": {},
   "outputs": [
    {
     "data": {
      "text/plain": [
       "[1, 3, 5, 7, 9, 11, 13, 15, 17, 19, 21]"
      ]
     },
     "execution_count": 9,
     "metadata": {},
     "output_type": "execute_result"
    }
   ],
   "source": [
    "y_values"
   ]
  },
  {
   "cell_type": "code",
   "execution_count": 11,
   "metadata": {},
   "outputs": [
    {
     "data": {
      "text/plain": [
       "[1, 3, 5, 7, 9, 11, 13, 15, 17, 19, 21]"
      ]
     },
     "execution_count": 11,
     "metadata": {},
     "output_type": "execute_result"
    }
   ],
   "source": [
    "y_values = []\n",
    "for i in x_values:\n",
    "    result = 2*i + 1\n",
    "    y_values.append(result) \n",
    "y_values"
   ]
  },
  {
   "cell_type": "code",
   "execution_count": 13,
   "metadata": {},
   "outputs": [
    {
     "data": {
      "text/plain": [
       "(11,)"
      ]
     },
     "execution_count": 13,
     "metadata": {},
     "output_type": "execute_result"
    }
   ],
   "source": [
    "#Convert to numpy array\n",
    "#確保原始數據是numpy形式，以方便作後續計算\n",
    "y_train = np.array(y_values, dtype=np.float32)\n",
    "y_train.shape"
   ]
  },
  {
   "cell_type": "code",
   "execution_count": 14,
   "metadata": {},
   "outputs": [
    {
     "data": {
      "text/plain": [
       "(11, 1)"
      ]
     },
     "execution_count": 14,
     "metadata": {},
     "output_type": "execute_result"
    }
   ],
   "source": [
    "#Reshape y numpy array to 2-dimension\n",
    "# IMPORTANT: 2D required\n",
    "y_train = y_train.reshape(-1, 1)\n",
    "y_train.shape"
   ]
  },
  {
   "cell_type": "markdown",
   "metadata": {},
   "source": [
    "# Building Model"
   ]
  },
  {
   "cell_type": "code",
   "execution_count": 15,
   "metadata": {},
   "outputs": [],
   "source": [
    "import torch\n",
    "import torch.nn as nn"
   ]
  },
  {
   "cell_type": "code",
   "execution_count": 16,
   "metadata": {},
   "outputs": [],
   "source": [
    "# Create class\n",
    "class LinearRegressionModel(nn.Module):\n",
    "    def __init__(self, input_dim, output_dim):\n",
    "        super(LinearRegressionModel, self).__init__()\n",
    "        self.linear = nn.Linear(input_dim, output_dim)  \n",
    "\n",
    "    def forward(self, x):\n",
    "        out = self.linear(x)\n",
    "        return out"
   ]
  },
  {
   "cell_type": "code",
   "execution_count": 17,
   "metadata": {},
   "outputs": [],
   "source": [
    "#input: [0, 1, 2, 3, 4, 5, 6, 7, 8, 9, 10]\n",
    "#期望輸出 output: [1, 3, 5, 7, 9, 11, 13, 15, 17, 19, 21]\n",
    "input_dim = 1\n",
    "output_dim = 1\n",
    "\n",
    "model = LinearRegressionModel(input_dim, output_dim)"
   ]
  },
  {
   "cell_type": "code",
   "execution_count": 18,
   "metadata": {},
   "outputs": [],
   "source": [
    "#定義損失函數\n",
    "criterion = nn.MSELoss()"
   ]
  },
  {
   "cell_type": "code",
   "execution_count": 21,
   "metadata": {},
   "outputs": [],
   "source": [
    "#定義學習速率、優化器\n",
    "learning_rate = 0.01\n",
    "\n",
    "optimizer = torch.optim.SGD(model.parameters(), lr=learning_rate)"
   ]
  },
  {
   "cell_type": "code",
   "execution_count": 22,
   "metadata": {},
   "outputs": [],
   "source": [
    "epochs = 100"
   ]
  },
  {
   "cell_type": "code",
   "execution_count": 23,
   "metadata": {
    "collapsed": true
   },
   "outputs": [
    {
     "name": "stdout",
     "output_type": "stream",
     "text": [
      "epoch 1, loss 156.88211059570312\n",
      "epoch 2, loss 12.919260025024414\n",
      "epoch 3, loss 1.1752983331680298\n",
      "epoch 4, loss 0.21602292358875275\n",
      "epoch 5, loss 0.13643652200698853\n",
      "epoch 6, loss 0.12861807644367218\n",
      "epoch 7, loss 0.12666834890842438\n",
      "epoch 8, loss 0.1252119243144989\n",
      "epoch 9, loss 0.12381045520305634\n",
      "epoch 10, loss 0.1224275603890419\n",
      "epoch 11, loss 0.12106046080589294\n",
      "epoch 12, loss 0.11970852315425873\n",
      "epoch 13, loss 0.11837172508239746\n",
      "epoch 14, loss 0.11704988777637482\n",
      "epoch 15, loss 0.11574281007051468\n",
      "epoch 16, loss 0.11445023119449615\n",
      "epoch 17, loss 0.11317232251167297\n",
      "epoch 18, loss 0.1119086891412735\n",
      "epoch 19, loss 0.1106589138507843\n",
      "epoch 20, loss 0.10942302644252777\n",
      "epoch 21, loss 0.10820130258798599\n",
      "epoch 22, loss 0.10699298977851868\n",
      "epoch 23, loss 0.1057981625199318\n",
      "epoch 24, loss 0.10461694002151489\n",
      "epoch 25, loss 0.10344858467578888\n",
      "epoch 26, loss 0.10229330509901047\n",
      "epoch 27, loss 0.1011510118842125\n",
      "epoch 28, loss 0.100021593272686\n",
      "epoch 29, loss 0.09890475124120712\n",
      "epoch 30, loss 0.09780025482177734\n",
      "epoch 31, loss 0.09670805186033249\n",
      "epoch 32, loss 0.09562822431325912\n",
      "epoch 33, loss 0.09456021338701248\n",
      "epoch 34, loss 0.0935041680932045\n",
      "epoch 35, loss 0.0924602597951889\n",
      "epoch 36, loss 0.09142761677503586\n",
      "epoch 37, loss 0.09040675312280655\n",
      "epoch 38, loss 0.08939720690250397\n",
      "epoch 39, loss 0.08839890360832214\n",
      "epoch 40, loss 0.08741183578968048\n",
      "epoch 41, loss 0.08643560111522675\n",
      "epoch 42, loss 0.08547049760818481\n",
      "epoch 43, loss 0.0845160186290741\n",
      "epoch 44, loss 0.08357232809066772\n",
      "epoch 45, loss 0.08263899385929108\n",
      "epoch 46, loss 0.08171616494655609\n",
      "epoch 47, loss 0.08080378919839859\n",
      "epoch 48, loss 0.07990138977766037\n",
      "epoch 49, loss 0.07900909334421158\n",
      "epoch 50, loss 0.0781267061829567\n",
      "epoch 51, loss 0.0772542655467987\n",
      "epoch 52, loss 0.07639181613922119\n",
      "epoch 53, loss 0.07553857564926147\n",
      "epoch 54, loss 0.07469519227743149\n",
      "epoch 55, loss 0.07386106252670288\n",
      "epoch 56, loss 0.07303615659475327\n",
      "epoch 57, loss 0.07222066819667816\n",
      "epoch 58, loss 0.07141412049531937\n",
      "epoch 59, loss 0.07061664760112762\n",
      "epoch 60, loss 0.06982824206352234\n",
      "epoch 61, loss 0.0690484344959259\n",
      "epoch 62, loss 0.06827738136053085\n",
      "epoch 63, loss 0.06751489639282227\n",
      "epoch 64, loss 0.06676087528467178\n",
      "epoch 65, loss 0.06601538509130478\n",
      "epoch 66, loss 0.06527818739414215\n",
      "epoch 67, loss 0.06454920023679733\n",
      "epoch 68, loss 0.06382843852043152\n",
      "epoch 69, loss 0.06311571598052979\n",
      "epoch 70, loss 0.062410868704319\n",
      "epoch 71, loss 0.06171394884586334\n",
      "epoch 72, loss 0.06102496385574341\n",
      "epoch 73, loss 0.0603434257209301\n",
      "epoch 74, loss 0.059669531881809235\n",
      "epoch 75, loss 0.05900311842560768\n",
      "epoch 76, loss 0.05834425613284111\n",
      "epoch 77, loss 0.05769284814596176\n",
      "epoch 78, loss 0.057048603892326355\n",
      "epoch 79, loss 0.05641142278909683\n",
      "epoch 80, loss 0.05578165873885155\n",
      "epoch 81, loss 0.05515875294804573\n",
      "epoch 82, loss 0.05454268679022789\n",
      "epoch 83, loss 0.05393362045288086\n",
      "epoch 84, loss 0.053331408649683\n",
      "epoch 85, loss 0.0527358315885067\n",
      "epoch 86, loss 0.05214685574173927\n",
      "epoch 87, loss 0.05156457796692848\n",
      "epoch 88, loss 0.05098875239491463\n",
      "epoch 89, loss 0.05041935294866562\n",
      "epoch 90, loss 0.04985643923282623\n",
      "epoch 91, loss 0.049299757927656174\n",
      "epoch 92, loss 0.04874919354915619\n",
      "epoch 93, loss 0.0482046976685524\n",
      "epoch 94, loss 0.04766649752855301\n",
      "epoch 95, loss 0.04713425785303116\n",
      "epoch 96, loss 0.046607792377471924\n",
      "epoch 97, loss 0.04608743265271187\n",
      "epoch 98, loss 0.045572806149721146\n",
      "epoch 99, loss 0.04506387934088707\n",
      "epoch 100, loss 0.04456070438027382\n"
     ]
    }
   ],
   "source": [
    "for epoch in range(epochs):\n",
    "    epoch += 1\n",
    "    # Convert numpy array to torch Variable\n",
    "    inputs = torch.from_numpy(x_train).requires_grad_()\n",
    "    labels = torch.from_numpy(y_train)\n",
    "\n",
    "    # Clear gradients w.r.t. parameters\n",
    "    optimizer.zero_grad() \n",
    "\n",
    "    # Forward to get output\n",
    "    outputs = model(inputs)\n",
    "\n",
    "    # Calculate Loss\n",
    "    loss = criterion(outputs, labels)\n",
    "\n",
    "    # Getting gradients w.r.t. parameters\n",
    "    loss.backward()\n",
    "\n",
    "    # Updating parameters\n",
    "    optimizer.step()\n",
    "\n",
    "    print('epoch {}, loss {}'.format(epoch, loss.item()))"
   ]
  },
  {
   "cell_type": "code",
   "execution_count": 24,
   "metadata": {},
   "outputs": [],
   "source": [
    "#Looking at training values"
   ]
  },
  {
   "cell_type": "code",
   "execution_count": null,
   "metadata": {},
   "outputs": [],
   "source": []
  },
  {
   "cell_type": "code",
   "execution_count": 25,
   "metadata": {},
   "outputs": [
    {
     "data": {
      "text/plain": [
       "array([[ 1.],\n",
       "       [ 3.],\n",
       "       [ 5.],\n",
       "       [ 7.],\n",
       "       [ 9.],\n",
       "       [11.],\n",
       "       [13.],\n",
       "       [15.],\n",
       "       [17.],\n",
       "       [19.],\n",
       "       [21.]], dtype=float32)"
      ]
     },
     "execution_count": 25,
     "metadata": {},
     "output_type": "execute_result"
    }
   ],
   "source": [
    "# y = 2x + 1 \n",
    "y_train"
   ]
  },
  {
   "cell_type": "code",
   "execution_count": 27,
   "metadata": {},
   "outputs": [
    {
     "data": {
      "image/png": "[encoded data removed]",
      "text/plain": [
       "<Figure size 432x288 with 1 Axes>"
      ]
     },
     "metadata": {},
     "output_type": "display_data"
    }
   ],
   "source": [
    "#Plot of predicted and actual values\n",
    "# Clear figure\n",
    "plt.clf()\n",
    "\n",
    "# Get predictions\n",
    "predicted = model(torch.from_numpy(x_train).requires_grad_()).data.numpy()\n",
    "\n",
    "# Plot true data\n",
    "plt.plot(x_train, y_train, 'go', label='True data', alpha=0.5)\n",
    "\n",
    "# Plot predictions\n",
    "plt.plot(x_train, predicted, '--', label='Predictions', alpha=0.5)\n",
    "\n",
    "# Legend and plot\n",
    "plt.legend(loc='best')\n",
    "plt.show()"
   ]
  },
  {
   "cell_type": "code",
   "execution_count": 28,
   "metadata": {},
   "outputs": [
    {
     "data": {
      "text/plain": [
       "array([[ 0.60732263],\n",
       "       [ 2.6638718 ],\n",
       "       [ 4.720421  ],\n",
       "       [ 6.77697   ],\n",
       "       [ 8.833519  ],\n",
       "       [10.890068  ],\n",
       "       [12.946617  ],\n",
       "       [15.003166  ],\n",
       "       [17.059715  ],\n",
       "       [19.116264  ],\n",
       "       [21.172813  ]], dtype=float32)"
      ]
     },
     "execution_count": 28,
     "metadata": {},
     "output_type": "execute_result"
    }
   ],
   "source": [
    "predicted"
   ]
  },
  {
   "cell_type": "code",
   "execution_count": 30,
   "metadata": {},
   "outputs": [],
   "source": [
    "save_model = False\n",
    "if save_model is True:\n",
    "    # Saves only parameters\n",
    "    # alpha & beta\n",
    "    torch.save(model.state_dict(), 'awesome_model.pkl')"
   ]
  },
  {
   "cell_type": "code",
   "execution_count": 31,
   "metadata": {},
   "outputs": [],
   "source": [
    "load_model = False\n",
    "if load_model is True:\n",
    "    model.load_state_dict(torch.load('awesome_model.pkl'))"
   ]
  },
  {
   "cell_type": "code",
   "execution_count": 37,
   "metadata": {
    "collapsed": true
   },
   "outputs": [
    {
     "name": "stdout",
     "output_type": "stream",
     "text": [
      "epoch 1, loss 116.66674041748047\n",
      "epoch 2, loss 10.217367172241211\n",
      "epoch 3, loss 1.526798129081726\n",
      "epoch 4, loss 0.8101921081542969\n",
      "epoch 5, loss 0.7440839409828186\n",
      "epoch 6, loss 0.7311206459999084\n",
      "epoch 7, loss 0.7225767374038696\n",
      "epoch 8, loss 0.7144768238067627\n",
      "epoch 9, loss 0.7064960598945618\n",
      "epoch 10, loss 0.6986064314842224\n",
      "epoch 11, loss 0.6908050775527954\n",
      "epoch 12, loss 0.6830906271934509\n",
      "epoch 13, loss 0.6754629015922546\n",
      "epoch 14, loss 0.667919933795929\n",
      "epoch 15, loss 0.6604613065719604\n",
      "epoch 16, loss 0.6530863046646118\n",
      "epoch 17, loss 0.6457934379577637\n",
      "epoch 18, loss 0.6385820508003235\n",
      "epoch 19, loss 0.631450891494751\n",
      "epoch 20, loss 0.6243997812271118\n",
      "epoch 21, loss 0.6174269318580627\n",
      "epoch 22, loss 0.6105322241783142\n",
      "epoch 23, loss 0.6037148237228394\n",
      "epoch 24, loss 0.5969732999801636\n",
      "epoch 25, loss 0.5903070569038391\n",
      "epoch 26, loss 0.5837148427963257\n",
      "epoch 27, loss 0.5771967172622681\n",
      "epoch 28, loss 0.5707514882087708\n",
      "epoch 29, loss 0.5643779039382935\n",
      "epoch 30, loss 0.5580757260322571\n",
      "epoch 31, loss 0.5518437027931213\n",
      "epoch 32, loss 0.5456808805465698\n",
      "epoch 33, loss 0.539587676525116\n",
      "epoch 34, loss 0.5335622429847717\n",
      "epoch 35, loss 0.5276041030883789\n",
      "epoch 36, loss 0.5217123627662659\n",
      "epoch 37, loss 0.515886127948761\n",
      "epoch 38, loss 0.5101252794265747\n",
      "epoch 39, loss 0.5044293403625488\n",
      "epoch 40, loss 0.4987962543964386\n",
      "epoch 41, loss 0.49322617053985596\n",
      "epoch 42, loss 0.4877186417579651\n",
      "epoch 43, loss 0.482272207736969\n",
      "epoch 44, loss 0.47688642144203186\n",
      "epoch 45, loss 0.4715615212917328\n",
      "epoch 46, loss 0.46629565954208374\n",
      "epoch 47, loss 0.46108871698379517\n",
      "epoch 48, loss 0.4559393525123596\n",
      "epoch 49, loss 0.45084795355796814\n",
      "epoch 50, loss 0.44581377506256104\n",
      "epoch 51, loss 0.4408351182937622\n",
      "epoch 52, loss 0.43591248989105225\n",
      "epoch 53, loss 0.43104496598243713\n",
      "epoch 54, loss 0.4262312948703766\n",
      "epoch 55, loss 0.42147204279899597\n",
      "epoch 56, loss 0.4167655408382416\n",
      "epoch 57, loss 0.41211146116256714\n",
      "epoch 58, loss 0.407509446144104\n",
      "epoch 59, loss 0.40295907855033875\n",
      "epoch 60, loss 0.39845922589302063\n",
      "epoch 61, loss 0.3940093517303467\n",
      "epoch 62, loss 0.3896094560623169\n",
      "epoch 63, loss 0.3852590322494507\n",
      "epoch 64, loss 0.38095682859420776\n",
      "epoch 65, loss 0.3767029345035553\n",
      "epoch 66, loss 0.3724960684776306\n",
      "epoch 67, loss 0.3683367371559143\n",
      "epoch 68, loss 0.36422327160835266\n",
      "epoch 69, loss 0.3601558208465576\n",
      "epoch 70, loss 0.3561343848705292\n",
      "epoch 71, loss 0.3521573543548584\n",
      "epoch 72, loss 0.3482249677181244\n",
      "epoch 73, loss 0.3443361520767212\n",
      "epoch 74, loss 0.34049123525619507\n",
      "epoch 75, loss 0.3366888761520386\n",
      "epoch 76, loss 0.332929402589798\n",
      "epoch 77, loss 0.3292113244533539\n",
      "epoch 78, loss 0.3255351781845093\n",
      "epoch 79, loss 0.32189998030662537\n",
      "epoch 80, loss 0.31830549240112305\n",
      "epoch 81, loss 0.3147509694099426\n",
      "epoch 82, loss 0.31123626232147217\n",
      "epoch 83, loss 0.3077603876590729\n",
      "epoch 84, loss 0.30432388186454773\n",
      "epoch 85, loss 0.30092552304267883\n",
      "epoch 86, loss 0.29756537079811096\n",
      "epoch 87, loss 0.29424211382865906\n",
      "epoch 88, loss 0.29095664620399475\n",
      "epoch 89, loss 0.28770747780799866\n",
      "epoch 90, loss 0.28449490666389465\n",
      "epoch 91, loss 0.28131797909736633\n",
      "epoch 92, loss 0.27817627787590027\n",
      "epoch 93, loss 0.2750701606273651\n",
      "epoch 94, loss 0.2719983160495758\n",
      "epoch 95, loss 0.2689610421657562\n",
      "epoch 96, loss 0.2659575641155243\n",
      "epoch 97, loss 0.2629876434803009\n",
      "epoch 98, loss 0.2600509822368622\n",
      "epoch 99, loss 0.2571469247341156\n",
      "epoch 100, loss 0.254275381565094\n"
     ]
    }
   ],
   "source": [
    "#CPU\n",
    "import torch\n",
    "import torch.nn as nn\n",
    "\n",
    "'''\n",
    "STEP 1: CREATE MODEL CLASS\n",
    "'''\n",
    "class LinearRegressionModel(nn.Module):\n",
    "    def __init__(self, input_dim, output_dim):\n",
    "        super(LinearRegressionModel, self).__init__()\n",
    "        self.linear = nn.Linear(input_dim, output_dim)  \n",
    "\n",
    "    def forward(self, x):\n",
    "        out = self.linear(x)\n",
    "        return out\n",
    "\n",
    "'''\n",
    "STEP 2: INSTANTIATE MODEL CLASS\n",
    "'''\n",
    "input_dim = 1\n",
    "output_dim = 1\n",
    "\n",
    "model = LinearRegressionModel(input_dim, output_dim)\n",
    "\n",
    "'''\n",
    "STEP 3: INSTANTIATE LOSS CLASS\n",
    "'''\n",
    "\n",
    "criterion = nn.MSELoss()\n",
    "\n",
    "'''\n",
    "STEP 4: INSTANTIATE OPTIMIZER CLASS\n",
    "'''\n",
    "\n",
    "learning_rate = 0.01\n",
    "\n",
    "optimizer = torch.optim.SGD(model.parameters(), lr=learning_rate)\n",
    "\n",
    "'''\n",
    "STEP 5: TRAIN THE MODEL\n",
    "'''\n",
    "epochs = 100\n",
    "for epoch in range(epochs):\n",
    "    epoch += 1\n",
    "    # Convert numpy array to torch Variable\n",
    "    inputs = torch.from_numpy(x_train).requires_grad_()\n",
    "    labels = torch.from_numpy(y_train)\n",
    "\n",
    "    # Clear gradients w.r.t. parameters\n",
    "    optimizer.zero_grad() \n",
    "\n",
    "    # Forward to get output\n",
    "    outputs = model(inputs)\n",
    "\n",
    "    # Calculate Loss\n",
    "    loss = criterion(outputs, labels)\n",
    "\n",
    "    # Getting gradients w.r.t. parameters\n",
    "    loss.backward()\n",
    "\n",
    "    # Updating parameters\n",
    "    optimizer.step()\n",
    "    print('epoch {}, loss {}'.format(epoch, loss.item()))"
   ]
  },
  {
   "cell_type": "markdown",
   "metadata": {},
   "source": [
    "# Building a Linear Regression Model with PyTorch (GPU)"
   ]
  },
  {
   "cell_type": "code",
   "execution_count": 38,
   "metadata": {
    "collapsed": true
   },
   "outputs": [
    {
     "name": "stdout",
     "output_type": "stream",
     "text": [
      "epoch 1, loss 63.56597137451172\n",
      "epoch 2, loss 5.188754081726074\n",
      "epoch 3, loss 0.4270651936531067\n",
      "epoch 4, loss 0.03862612694501877\n",
      "epoch 5, loss 0.006900012027472258\n",
      "epoch 6, loss 0.004270355682820082\n",
      "epoch 7, loss 0.004014459438621998\n",
      "epoch 8, loss 0.003952668514102697\n",
      "epoch 9, loss 0.00390712870284915\n",
      "epoch 10, loss 0.0038633947260677814\n",
      "epoch 11, loss 0.0038202230352908373\n",
      "epoch 12, loss 0.003777582198381424\n",
      "epoch 13, loss 0.003735379781574011\n",
      "epoch 14, loss 0.003693672828376293\n",
      "epoch 15, loss 0.0036524555180221796\n",
      "epoch 16, loss 0.0036116542760282755\n",
      "epoch 17, loss 0.0035713035613298416\n",
      "epoch 18, loss 0.0035314548294991255\n",
      "epoch 19, loss 0.0034920054022222757\n",
      "epoch 20, loss 0.003453006036579609\n",
      "epoch 21, loss 0.0034144397359341383\n",
      "epoch 22, loss 0.00337632792070508\n",
      "epoch 23, loss 0.003338614711537957\n",
      "epoch 24, loss 0.0033013070933520794\n",
      "epoch 25, loss 0.0032644770108163357\n",
      "epoch 26, loss 0.0032280206214636564\n",
      "epoch 27, loss 0.003191980067640543\n",
      "epoch 28, loss 0.003156323917210102\n",
      "epoch 29, loss 0.003121092915534973\n",
      "epoch 30, loss 0.003086211858317256\n",
      "epoch 31, loss 0.003051735693588853\n",
      "epoch 32, loss 0.0030177042353898287\n",
      "epoch 33, loss 0.002983968937769532\n",
      "epoch 34, loss 0.002950641792267561\n",
      "epoch 35, loss 0.0029177209362387657\n",
      "epoch 36, loss 0.0028851167298853397\n",
      "epoch 37, loss 0.0028529155533760786\n",
      "epoch 38, loss 0.002821085276082158\n",
      "epoch 39, loss 0.0027895618695765734\n",
      "epoch 40, loss 0.0027584070339798927\n",
      "epoch 41, loss 0.0027276126202195883\n",
      "epoch 42, loss 0.0026971250772476196\n",
      "epoch 43, loss 0.002667037770152092\n",
      "epoch 44, loss 0.002637238474562764\n",
      "epoch 45, loss 0.002607794478535652\n",
      "epoch 46, loss 0.0025786818005144596\n",
      "epoch 47, loss 0.002549890661612153\n",
      "epoch 48, loss 0.0025214017368853092\n",
      "epoch 49, loss 0.0024932660162448883\n",
      "epoch 50, loss 0.0024654120206832886\n",
      "epoch 51, loss 0.002437872113659978\n",
      "epoch 52, loss 0.002410672837868333\n",
      "epoch 53, loss 0.0023837422486394644\n",
      "epoch 54, loss 0.0023571013007313013\n",
      "epoch 55, loss 0.0023308012168854475\n",
      "epoch 56, loss 0.0023047677241265774\n",
      "epoch 57, loss 0.002279039705172181\n",
      "epoch 58, loss 0.002253589453175664\n",
      "epoch 59, loss 0.0022284281440079212\n",
      "epoch 60, loss 0.0022035441361367702\n",
      "epoch 61, loss 0.002178937429562211\n",
      "epoch 62, loss 0.0021545973140746355\n",
      "epoch 63, loss 0.002130528911948204\n",
      "epoch 64, loss 0.0021067464258521795\n",
      "epoch 65, loss 0.0020832011941820383\n",
      "epoch 66, loss 0.0020599530544131994\n",
      "epoch 67, loss 0.0020369391422718763\n",
      "epoch 68, loss 0.0020142104476690292\n",
      "epoch 69, loss 0.001991698518395424\n",
      "epoch 70, loss 0.0019694804213941097\n",
      "epoch 71, loss 0.001947477925568819\n",
      "epoch 72, loss 0.001925740041770041\n",
      "epoch 73, loss 0.0019042454659938812\n",
      "epoch 74, loss 0.0018829688197001815\n",
      "epoch 75, loss 0.001861918717622757\n",
      "epoch 76, loss 0.0018411329947412014\n",
      "epoch 77, loss 0.0018205849919468164\n",
      "epoch 78, loss 0.0018002535216510296\n",
      "epoch 79, loss 0.0017801388166844845\n",
      "epoch 80, loss 0.0017602836014702916\n",
      "epoch 81, loss 0.0017406032420694828\n",
      "epoch 82, loss 0.0017211895901709795\n",
      "epoch 83, loss 0.0017019526567310095\n",
      "epoch 84, loss 0.0016829443629831076\n",
      "epoch 85, loss 0.0016641634283587337\n",
      "epoch 86, loss 0.0016455752775073051\n",
      "epoch 87, loss 0.0016272019129246473\n",
      "epoch 88, loss 0.0016090456629171968\n",
      "epoch 89, loss 0.0015910696238279343\n",
      "epoch 90, loss 0.0015732913743704557\n",
      "epoch 91, loss 0.0015557402512058616\n",
      "epoch 92, loss 0.0015383457066491246\n",
      "epoch 93, loss 0.0015211799181997776\n",
      "epoch 94, loss 0.001504193409346044\n",
      "epoch 95, loss 0.0014873843174427748\n",
      "epoch 96, loss 0.0014707868685945868\n",
      "epoch 97, loss 0.001454346813261509\n",
      "epoch 98, loss 0.001438115956261754\n",
      "epoch 99, loss 0.0014220461016520858\n",
      "epoch 100, loss 0.0014061753172427416\n"
     ]
    }
   ],
   "source": [
    "#記得model、tensors with gradients都是需要放置GPU的地方\n",
    "\n",
    "import torch\n",
    "import torch.nn as nn\n",
    "import numpy as np\n",
    "\n",
    "'''\n",
    "STEP 1: CREATE MODEL CLASS\n",
    "'''\n",
    "class LinearRegressionModel(nn.Module):\n",
    "    def __init__(self, input_dim, output_dim):\n",
    "        super(LinearRegressionModel, self).__init__()\n",
    "        self.linear = nn.Linear(input_dim, output_dim)  \n",
    "\n",
    "    def forward(self, x):\n",
    "        out = self.linear(x)\n",
    "        return out\n",
    "\n",
    "'''\n",
    "STEP 2: INSTANTIATE MODEL CLASS\n",
    "'''\n",
    "input_dim = 1\n",
    "output_dim = 1\n",
    "\n",
    "model = LinearRegressionModel(input_dim, output_dim)\n",
    "\n",
    "\n",
    "#######################\n",
    "#  USE GPU FOR MODEL  #\n",
    "#######################\n",
    "\n",
    "device = torch.device(\"cuda:0\" if torch.cuda.is_available() else \"cpu\") #GPU\n",
    "model.to(device) #GPU\n",
    "\n",
    "'''\n",
    "STEP 3: INSTANTIATE LOSS CLASS\n",
    "'''\n",
    "\n",
    "criterion = nn.MSELoss()\n",
    "\n",
    "'''\n",
    "STEP 4: INSTANTIATE OPTIMIZER CLASS\n",
    "'''\n",
    "\n",
    "learning_rate = 0.01\n",
    "\n",
    "optimizer = torch.optim.SGD(model.parameters(), lr=learning_rate)\n",
    "\n",
    "'''\n",
    "STEP 5: TRAIN THE MODEL\n",
    "'''\n",
    "epochs = 100\n",
    "for epoch in range(epochs):\n",
    "    epoch += 1\n",
    "    # Convert numpy array to torch Variable\n",
    "\n",
    "    #######################\n",
    "    #  USE GPU FOR MODEL  #\n",
    "    #######################\n",
    "    inputs = torch.from_numpy(x_train).to(device) #GPU\n",
    "    labels = torch.from_numpy(y_train).to(device) #GPU\n",
    "\n",
    "    # Clear gradients w.r.t. parameters\n",
    "    optimizer.zero_grad() \n",
    "\n",
    "    # Forward to get output\n",
    "    outputs = model(inputs)\n",
    "\n",
    "    # Calculate Loss\n",
    "    loss = criterion(outputs, labels)\n",
    "\n",
    "    # Getting gradients w.r.t. parameters\n",
    "    loss.backward()\n",
    "\n",
    "    # Updating parameters\n",
    "    optimizer.step()\n",
    "\n",
    "    # Logging\n",
    "    print('epoch {}, loss {}'.format(epoch, loss.item()))"
   ]
  },
  {
   "cell_type": "code",
   "execution_count": null,
   "metadata": {},
   "outputs": [],
   "source": []
  }
 ],
 "metadata": {
  "kernelspec": {
   "display_name": "Python 3",
   "language": "python",
   "name": "python3"
  },
  "language_info": {
   "codemirror_mode": {
    "name": "ipython",
    "version": 3
   },
   "file_extension": ".py",
   "mimetype": "text/x-python",
   "name": "python",
   "nbconvert_exporter": "python",
   "pygments_lexer": "ipython3",
   "version": "3.6.5"
  }
 },
 "nbformat": 4,
 "nbformat_minor": 2
}
